{
  "nbformat": 4,
  "nbformat_minor": 0,
  "metadata": {
    "kernelspec": {
      "display_name": "Python 3",
      "language": "python",
      "name": "python3"
    },
    "language_info": {
      "codemirror_mode": {
        "name": "ipython",
        "version": 3
      },
      "file_extension": ".py",
      "mimetype": "text/x-python",
      "name": "python",
      "nbconvert_exporter": "python",
      "pygments_lexer": "ipython3",
      "version": "3.7.6"
    },
    "colab": {
      "name": "Mustafa_Aslanov_HW_7_a.ipynb",
      "provenance": [],
      "collapsed_sections": [],
      "machine_shape": "hm"
    },
    "accelerator": "GPU"
  },
  "cells": [
    {
      "cell_type": "markdown",
      "metadata": {
        "id": "i34AwySY0VeL",
        "colab_type": "text"
      },
      "source": [
        "Loading Data"
      ]
    },
    {
      "cell_type": "code",
      "metadata": {
        "id": "ZgapGpAp7IBg",
        "colab_type": "code",
        "colab": {}
      },
      "source": [
        "'''\n",
        "Mustafa Aslanov HW7\n",
        "'''"
      ],
      "execution_count": 0,
      "outputs": []
    },
    {
      "cell_type": "code",
      "metadata": {
        "id": "oc56_Gz6d2u6",
        "colab_type": "code",
        "colab": {
          "base_uri": "https://localhost:8080/",
          "height": 34
        },
        "outputId": "28b742d0-f4f4-4a3b-dac6-7f95c8908094"
      },
      "source": [
        "import pandas as pd\n",
        "import numpy as np\n",
        "from sklearn.neural_network import MLPClassifier\n",
        "import matplotlib.pyplot as plt \n",
        "import keras \n",
        "from sklearn.model_selection import train_test_split \n",
        "from sklearn.metrics import classification_report\n",
        "from PIL import Image"
      ],
      "execution_count": 1,
      "outputs": [
        {
          "output_type": "stream",
          "text": [
            "Using TensorFlow backend.\n"
          ],
          "name": "stderr"
        }
      ]
    },
    {
      "cell_type": "code",
      "metadata": {
        "id": "6e7nCZTufEbW",
        "colab_type": "code",
        "colab": {}
      },
      "source": [
        "train = pd.read_csv('Train.txt', sep='#', engine='python')\n",
        "test = pd.read_csv('Test.txt', sep='#', engine='python')"
      ],
      "execution_count": 0,
      "outputs": []
    },
    {
      "cell_type": "code",
      "metadata": {
        "id": "-qRHcxmId2vA",
        "colab_type": "code",
        "colab": {}
      },
      "source": [
        "train_labels = train.PatN\n",
        "train_type = train.PatType\n",
        "train_prob = train.PatProb\n",
        "train_height = train.SizeH\n",
        "train_width = train.SizeW\n",
        "train_data = train.Data\n",
        "\n",
        "test_labels = test.PatN\n",
        "test_type = test.PatType\n",
        "test_prob = test.PatProb\n",
        "test_height = test.SizeH\n",
        "test_width = test.SizeW\n",
        "test_data = test.Data"
      ],
      "execution_count": 0,
      "outputs": []
    },
    {
      "cell_type": "markdown",
      "metadata": {
        "id": "E0LtXm3j9FdM",
        "colab_type": "text"
      },
      "source": [
        "Extra: Tool to view the letters"
      ]
    },
    {
      "cell_type": "code",
      "metadata": {
        "id": "eDhfLf259JKV",
        "colab_type": "code",
        "colab": {}
      },
      "source": [
        "images = []\n",
        "cmap = {'0': (255,255,255),\n",
        "        '1': (0,0,0)}\n",
        "\n",
        "for i in range(len(train_data)):\n",
        "    data = [cmap[letter] for letter in train_data[i]]\n",
        "    img = Image.new('RGB', (train_width[i], train_height[i]), \"white\")\n",
        "    img.putdata(data)\n",
        "    images.append(img)"
      ],
      "execution_count": 0,
      "outputs": []
    },
    {
      "cell_type": "code",
      "metadata": {
        "id": "zV17co7v9Q-d",
        "colab_type": "code",
        "outputId": "f69d8f7b-034e-4788-f3be-6e702b24cd77",
        "colab": {
          "base_uri": "https://localhost:8080/",
          "height": 71
        }
      },
      "source": [
        "images[55]"
      ],
      "execution_count": 0,
      "outputs": [
        {
          "output_type": "execute_result",
          "data": {
            "image/png": "iVBORw0KGgoAAAANSUhEUgAAACEAAAA2CAIAAADGVWcbAAABH0lEQVR4nL2XwQ6EMAhEwez//zJ76GY10FIKg3MyxvY5AgVZRKhBzDwuRORqBYzrFoYSnvE00cWwAjOsCTBjCujKKyUYY2oCzHCEYTgmMAwfgGE4GodhlbE1UWVsAeOBPGNVcfYmMh6rVpRkRMJQZRyBMwy71/MriYj6aJ86wGKUznzEcynPSAAAjIgOGH6oMYy08oz4gBnN3XhhJ+erCoCIeGWZmUXk6Fyy2veoIoBs/2Dm+qZTzB3zph8Reqc+ljGnVGFPlyx95E4O9czZ7BOM1sG/ATbBemM+3lWfV7lO5+v1ebejzkmdJc67YBhNgD0Doh+jI500o1VLRs6EWnX3qKaU/WvuoxIJu7arJp6a+IA33WvaVcCM575NY8MXUsZ4d1XnYGsAAAAASUVORK5CYII=\n",
            "text/plain": [
              "<PIL.Image.Image image mode=RGB size=33x54 at 0x7F4FAF754710>"
            ]
          },
          "metadata": {
            "tags": []
          },
          "execution_count": 48
        }
      ]
    },
    {
      "cell_type": "markdown",
      "metadata": {
        "id": "f65WsqVX8FVz",
        "colab_type": "text"
      },
      "source": [
        "Converting data values to float"
      ]
    },
    {
      "cell_type": "code",
      "metadata": {
        "id": "tnr81UDld2vk",
        "colab_type": "code",
        "colab": {}
      },
      "source": [
        "train_float=[]\n",
        "for i in range (0,train_data.shape[0]):\n",
        "  train_float.append(list(train_data[i]))\n",
        "\n",
        "test_float=[]\n",
        "for i in range (0,test_data.shape[0]):\n",
        "  test_float.append(list(test_data[i]))"
      ],
      "execution_count": 0,
      "outputs": []
    },
    {
      "cell_type": "code",
      "metadata": {
        "id": "f6WtUc6Zo10F",
        "colab_type": "code",
        "colab": {}
      },
      "source": [
        "train_float = pd.DataFrame(train_float) \n",
        "train_float = train_float.replace({None: 0})\n",
        "test_float = pd.DataFrame(test_float) \n",
        "test_float = test_float.replace({None: 0}) "
      ],
      "execution_count": 0,
      "outputs": []
    },
    {
      "cell_type": "code",
      "metadata": {
        "id": "w5RMccJp8Mgx",
        "colab_type": "code",
        "colab": {}
      },
      "source": [
        "traindata= np.array(train_float)\n",
        "testdata = np.array(test_float) "
      ],
      "execution_count": 0,
      "outputs": []
    },
    {
      "cell_type": "code",
      "metadata": {
        "id": "5WL-YPbhbVyV",
        "colab_type": "code",
        "colab": {
          "base_uri": "https://localhost:8080/",
          "height": 136
        },
        "outputId": "86a4a8c7-2667-4be6-9a6c-e45ea8db07a1"
      },
      "source": [
        "train.max()"
      ],
      "execution_count": 9,
      "outputs": [
        {
          "output_type": "execute_result",
          "data": {
            "text/plain": [
              "PatN       27.0\n",
              "PatType     0.0\n",
              "PatProb    10.0\n",
              "SizeH      75.0\n",
              "SizeW      76.0\n",
              "Data        inf\n",
              "dtype: float64"
            ]
          },
          "metadata": {
            "tags": []
          },
          "execution_count": 9
        }
      ]
    },
    {
      "cell_type": "code",
      "metadata": {
        "id": "WdkkGUECbY4x",
        "colab_type": "code",
        "colab": {
          "base_uri": "https://localhost:8080/",
          "height": 136
        },
        "outputId": "15cb4afd-a06a-49ea-8850-a6e466b1ea03"
      },
      "source": [
        "test.max()"
      ],
      "execution_count": 10,
      "outputs": [
        {
          "output_type": "execute_result",
          "data": {
            "text/plain": [
              "PatN       27.0\n",
              "PatType     1.0\n",
              "PatProb    10.0\n",
              "SizeH      88.0\n",
              "SizeW      68.0\n",
              "Data        inf\n",
              "dtype: float64"
            ]
          },
          "metadata": {
            "tags": []
          },
          "execution_count": 10
        }
      ]
    },
    {
      "cell_type": "code",
      "metadata": {
        "id": "8Ghy_1f5bPxG",
        "colab_type": "code",
        "colab": {
          "base_uri": "https://localhost:8080/",
          "height": 34
        },
        "outputId": "c743a040-134b-4b02-8d63-23268074f6ec"
      },
      "source": [
        "traindata.shape"
      ],
      "execution_count": 7,
      "outputs": [
        {
          "output_type": "execute_result",
          "data": {
            "text/plain": [
              "(4200, 4736)"
            ]
          },
          "metadata": {
            "tags": []
          },
          "execution_count": 7
        }
      ]
    },
    {
      "cell_type": "code",
      "metadata": {
        "id": "jA-klpqr5n30",
        "colab_type": "code",
        "outputId": "45048260-ebfa-4377-9f68-fcee688b19cf",
        "colab": {
          "base_uri": "https://localhost:8080/",
          "height": 34
        }
      },
      "source": [
        "testdata.shape"
      ],
      "execution_count": 8,
      "outputs": [
        {
          "output_type": "execute_result",
          "data": {
            "text/plain": [
              "(560, 4760)"
            ]
          },
          "metadata": {
            "tags": []
          },
          "execution_count": 8
        }
      ]
    },
    {
      "cell_type": "code",
      "metadata": {
        "id": "--skdTx48Mms",
        "colab_type": "code",
        "colab": {}
      },
      "source": [
        "# adding padding to make them all same size\n",
        "traindata = np.pad(traindata,((0,0),(0,24)),'constant')"
      ],
      "execution_count": 0,
      "outputs": []
    },
    {
      "cell_type": "code",
      "metadata": {
        "id": "r-p1zQc-bqwF",
        "colab_type": "code",
        "colab": {
          "base_uri": "https://localhost:8080/",
          "height": 34
        },
        "outputId": "96559b61-84e7-4b7c-8f82-50db83301b6b"
      },
      "source": [
        "traindata.shape"
      ],
      "execution_count": 12,
      "outputs": [
        {
          "output_type": "execute_result",
          "data": {
            "text/plain": [
              "(4200, 4760)"
            ]
          },
          "metadata": {
            "tags": []
          },
          "execution_count": 12
        }
      ]
    },
    {
      "cell_type": "markdown",
      "metadata": {
        "id": "kaQwKrY47_Tq",
        "colab_type": "text"
      },
      "source": [
        "MLP\n"
      ]
    },
    {
      "cell_type": "code",
      "metadata": {
        "id": "SdTECgNPHkvO",
        "colab_type": "code",
        "colab": {}
      },
      "source": [
        "mlp = MLPClassifier(hidden_layer_sizes=(120,120,120),max_iter= 400)"
      ],
      "execution_count": 0,
      "outputs": []
    },
    {
      "cell_type": "code",
      "metadata": {
        "id": "hTnGCqkEd2vs",
        "colab_type": "code",
        "outputId": "9742644d-2ce1-4b7b-cd29-d54766a432da",
        "colab": {
          "base_uri": "https://localhost:8080/",
          "height": 153
        }
      },
      "source": [
        "mlp.fit(traindata,train_labels)"
      ],
      "execution_count": 0,
      "outputs": [
        {
          "output_type": "execute_result",
          "data": {
            "text/plain": [
              "MLPClassifier(activation='relu', alpha=0.0001, batch_size='auto', beta_1=0.9,\n",
              "              beta_2=0.999, early_stopping=False, epsilon=1e-08,\n",
              "              hidden_layer_sizes=(120, 120, 120), learning_rate='constant',\n",
              "              learning_rate_init=0.001, max_fun=15000, max_iter=400,\n",
              "              momentum=0.9, n_iter_no_change=10, nesterovs_momentum=True,\n",
              "              power_t=0.5, random_state=None, shuffle=True, solver='adam',\n",
              "              tol=0.0001, validation_fraction=0.1, verbose=False,\n",
              "              warm_start=False)"
            ]
          },
          "metadata": {
            "tags": []
          },
          "execution_count": 12
        }
      ]
    },
    {
      "cell_type": "code",
      "metadata": {
        "id": "0c3sTw7kd2vu",
        "colab_type": "code",
        "colab": {}
      },
      "source": [
        "predictions = mlp.predict(testdata)"
      ],
      "execution_count": 0,
      "outputs": []
    },
    {
      "cell_type": "code",
      "metadata": {
        "id": "xMq9ACZpImlL",
        "colab_type": "code",
        "outputId": "8d6b5eba-2cba-4237-a89b-c631291386ec",
        "colab": {
          "base_uri": "https://localhost:8080/",
          "height": 612
        }
      },
      "source": [
        "print(classification_report(test_labels, predictions))"
      ],
      "execution_count": 0,
      "outputs": [
        {
          "output_type": "stream",
          "text": [
            "              precision    recall  f1-score   support\n",
            "\n",
            "           0       0.62      0.65      0.63        20\n",
            "           1       0.28      0.35      0.31        20\n",
            "           2       0.21      0.15      0.18        20\n",
            "           3       0.36      0.45      0.40        20\n",
            "           4       0.12      0.15      0.13        20\n",
            "           5       0.54      0.65      0.59        20\n",
            "           6       0.35      0.30      0.32        20\n",
            "           7       0.44      0.35      0.39        20\n",
            "           8       0.27      0.35      0.30        20\n",
            "           9       0.44      0.55      0.49        20\n",
            "          10       0.59      0.50      0.54        20\n",
            "          11       0.57      0.40      0.47        20\n",
            "          12       0.53      0.40      0.46        20\n",
            "          13       0.69      0.90      0.78        20\n",
            "          14       0.65      0.55      0.59        20\n",
            "          15       0.33      0.40      0.36        20\n",
            "          16       0.27      0.15      0.19        20\n",
            "          17       0.56      0.45      0.50        20\n",
            "          18       0.44      0.40      0.42        20\n",
            "          19       0.35      0.40      0.37        20\n",
            "          20       0.29      0.30      0.29        20\n",
            "          21       0.33      0.30      0.32        20\n",
            "          22       1.00      0.70      0.82        20\n",
            "          23       0.28      0.40      0.33        20\n",
            "          24       0.45      0.45      0.45        20\n",
            "          25       0.46      0.30      0.36        20\n",
            "          26       0.24      0.20      0.22        20\n",
            "          27       0.46      0.65      0.54        20\n",
            "\n",
            "    accuracy                           0.42       560\n",
            "   macro avg       0.43      0.42      0.42       560\n",
            "weighted avg       0.43      0.42      0.42       560\n",
            "\n"
          ],
          "name": "stdout"
        }
      ]
    },
    {
      "cell_type": "markdown",
      "metadata": {
        "id": "xA5t4-dR765i",
        "colab_type": "text"
      },
      "source": [
        "CNN\n"
      ]
    },
    {
      "cell_type": "code",
      "metadata": {
        "id": "jzOcoA_g0gRc",
        "colab_type": "code",
        "colab": {}
      },
      "source": [
        "from keras.utils import to_categorical \n",
        "from keras.models import Sequential \n",
        "from keras.layers import Conv2D, MaxPooling2D \n",
        "from keras.layers import Dense, Dropout \n",
        "from keras.layers import Flatten, BatchNormalization"
      ],
      "execution_count": 0,
      "outputs": []
    },
    {
      "cell_type": "code",
      "metadata": {
        "id": "hiqOuCL7b7Rx",
        "colab_type": "code",
        "colab": {
          "base_uri": "https://localhost:8080/",
          "height": 34
        },
        "outputId": "091c4d6b-eb9f-41d6-8d20-dc41c3f53c43"
      },
      "source": [
        "train_float.iloc[:, 0].shape"
      ],
      "execution_count": 15,
      "outputs": [
        {
          "output_type": "execute_result",
          "data": {
            "text/plain": [
              "(4200,)"
            ]
          },
          "metadata": {
            "tags": []
          },
          "execution_count": 15
        }
      ]
    },
    {
      "cell_type": "code",
      "metadata": {
        "id": "CxadN3rFcAdw",
        "colab_type": "code",
        "colab": {
          "base_uri": "https://localhost:8080/",
          "height": 34
        },
        "outputId": "f5828ff8-55a9-426f-8acb-0989c28b6232"
      },
      "source": [
        "test_float.iloc[:, 0].shape"
      ],
      "execution_count": 16,
      "outputs": [
        {
          "output_type": "execute_result",
          "data": {
            "text/plain": [
              "(560,)"
            ]
          },
          "metadata": {
            "tags": []
          },
          "execution_count": 16
        }
      ]
    },
    {
      "cell_type": "code",
      "metadata": {
        "id": "pNhjBZOX25Wx",
        "colab_type": "code",
        "colab": {}
      },
      "source": [
        "trainY = to_categorical(train_labels.iloc[:, 0], num_classes=28) \n",
        "testY = to_categorical(test_labels.iloc[:, 0], num_classes=28) \n",
      ],
      "execution_count": 0,
      "outputs": []
    },
    {
      "cell_type": "code",
      "metadata": {
        "id": "uhjZQvNeUYRr",
        "colab_type": "code",
        "colab": {}
      },
      "source": [
        "rows = 70\n",
        "cols = 68\n",
        "\n",
        "# reshaping data to fit in CNN \n",
        "traindata = traindata.reshape(traindata.shape[0], rows, cols, 1)\n",
        "testdata = testdata.reshape(testdata.shape[0], rows, cols, 1)\n",
        "\n",
        "traindata = traindata.astype('float32')\n",
        "testdata = testdata.astype('float32')"
      ],
      "execution_count": 0,
      "outputs": []
    },
    {
      "cell_type": "code",
      "metadata": {
        "id": "Kyzsa4qrcpTu",
        "colab_type": "code",
        "colab": {
          "base_uri": "https://localhost:8080/",
          "height": 34
        },
        "outputId": "119e37a6-87f5-45f6-969a-7068eb5a0391"
      },
      "source": [
        "traindata.shape"
      ],
      "execution_count": 19,
      "outputs": [
        {
          "output_type": "execute_result",
          "data": {
            "text/plain": [
              "(4200, 70, 68, 1)"
            ]
          },
          "metadata": {
            "tags": []
          },
          "execution_count": 19
        }
      ]
    },
    {
      "cell_type": "code",
      "metadata": {
        "id": "hadso07hcrzf",
        "colab_type": "code",
        "colab": {
          "base_uri": "https://localhost:8080/",
          "height": 34
        },
        "outputId": "9835447b-9098-4a46-b6f8-c7633ba69921"
      },
      "source": [
        "testdata.shape"
      ],
      "execution_count": 20,
      "outputs": [
        {
          "output_type": "execute_result",
          "data": {
            "text/plain": [
              "(560, 70, 68, 1)"
            ]
          },
          "metadata": {
            "tags": []
          },
          "execution_count": 20
        }
      ]
    },
    {
      "cell_type": "code",
      "metadata": {
        "id": "iU3dkOW-UYaZ",
        "colab_type": "code",
        "colab": {}
      },
      "source": [
        "def baseline_model():\n",
        "    model = Sequential()\n",
        "    model.add(BatchNormalization(input_shape=(rows, cols, 1)))\n",
        "    model.add(Conv2D(50, (3, 3), padding='same', activation='relu'))\n",
        "    model.add(MaxPooling2D(pool_size=(2, 2), strides=(2,2)))\n",
        "    model.add(Dropout(0.25))\n",
        "    \n",
        "    model.add(BatchNormalization())\n",
        "    model.add(Conv2D(100, (3, 3), padding='same', activation='relu'))\n",
        "    model.add(MaxPooling2D(pool_size=(2, 2)))\n",
        "    model.add(Dropout(0.25))\n",
        "\n",
        "    model.add(BatchNormalization())\n",
        "    model.add(Conv2D(150, (3, 3), padding='same', activation='relu'))\n",
        "    model.add(MaxPooling2D(pool_size=(2, 2)))\n",
        "    model.add(Dropout(0.25))\n",
        "\n",
        "    model.add(Flatten())\n",
        "    model.add(Dense(150, activation='relu'))\n",
        "    model.add(Dropout(0.5))\n",
        "    model.add(Dense(28, activation='softmax'))\n",
        "    return model"
      ],
      "execution_count": 0,
      "outputs": []
    },
    {
      "cell_type": "code",
      "metadata": {
        "id": "0L2F9xurUYdB",
        "colab_type": "code",
        "colab": {}
      },
      "source": [
        "model = baseline_model()\n",
        "model.compile(loss='categorical_crossentropy', optimizer=keras.optimizers.Adadelta(), metrics=['accuracy'])"
      ],
      "execution_count": 0,
      "outputs": []
    },
    {
      "cell_type": "code",
      "metadata": {
        "id": "HOjbWODbUYfx",
        "colab_type": "code",
        "outputId": "1c80e825-1133-4a8c-d5b0-38fee3507b85",
        "colab": {
          "base_uri": "https://localhost:8080/",
          "height": 544
        }
      },
      "source": [
        "history = model.fit(traindata, trainY,\n",
        "          batch_size=512,\n",
        "          epochs=15,\n",
        "          verbose=1,\n",
        "          validation_data=(testdata, testY))"
      ],
      "execution_count": 0,
      "outputs": [
        {
          "output_type": "stream",
          "text": [
            "Train on 4200 samples, validate on 560 samples\n",
            "Epoch 1/15\n",
            "4200/4200 [==============================] - 5s 1ms/step - loss: 0.7699 - accuracy: 0.9376 - val_loss: 0.4835 - val_accuracy: 0.9839\n",
            "Epoch 2/15\n",
            "4200/4200 [==============================] - 4s 925us/step - loss: 0.1234 - accuracy: 0.9829 - val_loss: 0.5646 - val_accuracy: 0.9839\n",
            "Epoch 3/15\n",
            "4200/4200 [==============================] - 4s 925us/step - loss: 0.1122 - accuracy: 0.9829 - val_loss: 0.5118 - val_accuracy: 0.9839\n",
            "Epoch 4/15\n",
            "4200/4200 [==============================] - 4s 924us/step - loss: 0.0932 - accuracy: 0.9829 - val_loss: 0.4044 - val_accuracy: 0.9839\n",
            "Epoch 5/15\n",
            "4200/4200 [==============================] - 4s 924us/step - loss: 0.1051 - accuracy: 0.9829 - val_loss: 0.4527 - val_accuracy: 0.9839\n",
            "Epoch 6/15\n",
            "4200/4200 [==============================] - 4s 926us/step - loss: 0.1115 - accuracy: 0.9829 - val_loss: 0.4291 - val_accuracy: 0.9839\n",
            "Epoch 7/15\n",
            "4200/4200 [==============================] - 4s 928us/step - loss: 0.1116 - accuracy: 0.9829 - val_loss: 0.2589 - val_accuracy: 0.9839\n",
            "Epoch 8/15\n",
            "4200/4200 [==============================] - 4s 926us/step - loss: 0.1044 - accuracy: 0.9829 - val_loss: 0.4673 - val_accuracy: 0.9839\n",
            "Epoch 9/15\n",
            "4200/4200 [==============================] - 4s 928us/step - loss: 0.1022 - accuracy: 0.9829 - val_loss: 0.3926 - val_accuracy: 0.9839\n",
            "Epoch 10/15\n",
            "4200/4200 [==============================] - 4s 931us/step - loss: 0.1047 - accuracy: 0.9829 - val_loss: 0.4587 - val_accuracy: 0.9839\n",
            "Epoch 11/15\n",
            "4200/4200 [==============================] - 4s 928us/step - loss: 0.1153 - accuracy: 0.9829 - val_loss: 0.2939 - val_accuracy: 0.9839\n",
            "Epoch 12/15\n",
            "4200/4200 [==============================] - 4s 928us/step - loss: 0.0911 - accuracy: 0.9829 - val_loss: 0.2289 - val_accuracy: 0.9839\n",
            "Epoch 13/15\n",
            "4200/4200 [==============================] - 4s 930us/step - loss: 0.1064 - accuracy: 0.9829 - val_loss: 0.2608 - val_accuracy: 0.9839\n",
            "Epoch 14/15\n",
            "4200/4200 [==============================] - 4s 927us/step - loss: 0.1040 - accuracy: 0.9829 - val_loss: 0.2591 - val_accuracy: 0.9839\n",
            "Epoch 15/15\n",
            "4200/4200 [==============================] - 4s 928us/step - loss: 0.0960 - accuracy: 0.9829 - val_loss: 0.1875 - val_accuracy: 0.9839\n"
          ],
          "name": "stdout"
        }
      ]
    },
    {
      "cell_type": "code",
      "metadata": {
        "id": "z9U4u46qUYiN",
        "colab_type": "code",
        "outputId": "6374a796-bc4b-4a6e-a7a3-274bd342d823",
        "colab": {
          "base_uri": "https://localhost:8080/",
          "height": 51
        }
      },
      "source": [
        "score = model.evaluate(testdata, testY, verbose=0)\n",
        "print('Test loss:', score[0])\n",
        "print('Test accuracy:', score[1])"
      ],
      "execution_count": 0,
      "outputs": [
        {
          "output_type": "stream",
          "text": [
            "Test loss: 0.18751441410609654\n",
            "Test accuracy: 0.9839285612106323\n"
          ],
          "name": "stdout"
        }
      ]
    },
    {
      "cell_type": "code",
      "metadata": {
        "id": "hK_aEFVa6p7O",
        "colab_type": "code",
        "colab": {}
      },
      "source": [
        ""
      ],
      "execution_count": 0,
      "outputs": []
    }
  ]
}