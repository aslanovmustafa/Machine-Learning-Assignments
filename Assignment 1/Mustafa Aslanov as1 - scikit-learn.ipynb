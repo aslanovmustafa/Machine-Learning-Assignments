{
 "cells": [
  {
   "cell_type": "code",
   "execution_count": 1,
   "metadata": {},
   "outputs": [],
   "source": [
    "from sklearn import linear_model\n",
    "import pandas as pd\n",
    "from sklearn.model_selection import train_test_split\n",
    "from sklearn.linear_model import LinearRegression\n",
    "import numpy as np\n",
    "\n",
    "\n",
    "data_path = 'turboaz.csv'\n",
    "load_data = pd.read_csv(data_path)\n",
    "\n",
    "extr_data = pd.DataFrame(load_data)\n",
    "extr_data = extr_data[[\"Yurush\", \"Buraxilish ili\", \"Qiymet\"]]\n",
    "\n",
    "yurush = load_data[\"Yurush\"].map(lambda x: x.rstrip('km').replace(' ', '')).map(int)\n",
    "\n",
    "bur_ili = load_data[\"Buraxilish ili\"]\n",
    "\n",
    "qiymet = load_data[\"Qiymet\"].map(lambda x: float(x.rstrip('$'))*1.7 if '$' in x else float(x.rstrip('AZN')))\n",
    "\n",
    "\n",
    "yurush_saved = yurush\n",
    "bur_ili_saved = bur_ili\n",
    "qiymet_saved = qiymet\n",
    "\n",
    "\n",
    "yurush = (yurush - yurush.mean()) / yurush.std()\n",
    "bur_ili = (bur_ili - bur_ili.mean()) / bur_ili.std()\n",
    "qiymet = (qiymet - qiymet.mean()) / qiymet.std()\n",
    "\n",
    "m = len(yurush)\n",
    "x0 = np.ones(m)\n",
    "X = np.array([x0, yurush, bur_ili]).T\n",
    "y = qiymet"
   ]
  },
  {
   "cell_type": "code",
   "execution_count": 2,
   "metadata": {},
   "outputs": [
    {
     "name": "stdout",
     "output_type": "stream",
     "text": [
      "1.6952323410118445e-14\n",
      "[ 0.         -0.09334375  0.83086746]\n"
     ]
    }
   ],
   "source": [
    "regr = LinearRegression()\n",
    "regr.fit(X, y)\n",
    "\n",
    "print(regr.intercept_)\n",
    "print(regr.coef_)"
   ]
  },
  {
   "cell_type": "code",
   "execution_count": 6,
   "metadata": {},
   "outputs": [
    {
     "name": "stdout",
     "output_type": "stream",
     "text": [
      "[0.05157986]\n"
     ]
    }
   ],
   "source": [
    "yurush1 = 240000\n",
    "buraxilish1 = 2000\n",
    "qiymet1 = 11500\n",
    "\n",
    "yurush1 = (yurush1 - yurush_saved.mean()) / yurush_saved.std()\n",
    "buraxilish1 = (buraxilish1 - bur_ili_saved.mean()) / bur_ili_saved.std()\n",
    "\n",
    "\n",
    "X_new = (np.array([1, yurush1, buraxilish1])).reshape(1, -1)\n",
    "\n",
    "y_pred = regr.predict(X_new)\n",
    "print(y_pred)"
   ]
  },
  {
   "cell_type": "code",
   "execution_count": 7,
   "metadata": {},
   "outputs": [
    {
     "name": "stdout",
     "output_type": "stream",
     "text": [
      "[15820.54127243]   156994934.65653288\n"
     ]
    }
   ],
   "source": [
    "normal_qiymet = y_pred*qiymet_saved.std() + qiymet_saved.mean()\n",
    "pred_qiymet = qiymet1*qiymet_saved.std() + qiymet_saved.mean()\n",
    "\n",
    "print(normal_qiymet, ' ', pred_qiymet)"
   ]
  },
  {
   "cell_type": "code",
   "execution_count": null,
   "metadata": {},
   "outputs": [],
   "source": []
  }
 ],
 "metadata": {
  "kernelspec": {
   "display_name": "Python 3",
   "language": "python",
   "name": "python3"
  },
  "language_info": {
   "codemirror_mode": {
    "name": "ipython",
    "version": 3
   },
   "file_extension": ".py",
   "mimetype": "text/x-python",
   "name": "python",
   "nbconvert_exporter": "python",
   "pygments_lexer": "ipython3",
   "version": "3.8.0"
  }
 },
 "nbformat": 4,
 "nbformat_minor": 4
}
