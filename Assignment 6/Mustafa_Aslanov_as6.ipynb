{
 "cells": [
  {
   "cell_type": "code",
   "execution_count": 1,
   "metadata": {},
   "outputs": [],
   "source": [
    "import pandas as pd\n",
    "from sklearn.feature_extraction.text import TfidfVectorizer\n",
    "from sklearn.model_selection import train_test_split\n",
    "from sklearn.metrics import classification_report\n",
    "from sklearn.metrics import confusion_matrix\n",
    "from sklearn.svm import SVC\n",
    "from sklearn import tree\n",
    "from sklearn.neural_network import MLPClassifier\n",
    "\n",
    "# 1 - category, 2 - title, 3 - text\n",
    "data = pd.read_excel(\"azeri_news.xlsx\", encoding='utf-8')"
   ]
  },
  {
   "cell_type": "code",
   "execution_count": 2,
   "metadata": {},
   "outputs": [],
   "source": [
    "data['corpus'] = data['Title']+data['News_Article'] \n",
    "#using both columns at the same time doesn't work the way we need. combination of 2 columns gives slightly better accuracy\n",
    "y = data[\"Category\"]"
   ]
  },
  {
   "cell_type": "code",
   "execution_count": 3,
   "metadata": {
    "scrolled": true
   },
   "outputs": [],
   "source": [
    "tfidf = TfidfVectorizer()\n",
    "x_tfidf = tfidf.fit_transform(data[\"corpus\"]) "
   ]
  },
  {
   "cell_type": "code",
   "execution_count": 4,
   "metadata": {},
   "outputs": [],
   "source": [
    "x_train, x_test, y_train, y_test = train_test_split(x_tfidf, y, test_size=0.2, random_state=1)"
   ]
  },
  {
   "cell_type": "markdown",
   "metadata": {},
   "source": [
    "## SVM MACHINE"
   ]
  },
  {
   "cell_type": "code",
   "execution_count": 10,
   "metadata": {},
   "outputs": [
    {
     "data": {
      "text/plain": [
       "SVC(C=1.0, break_ties=False, cache_size=200, class_weight=None, coef0=0.0,\n",
       "    decision_function_shape='ovr', degree=3, gamma='auto', kernel='linear',\n",
       "    max_iter=-1, probability=False, random_state=1, shrinking=True, tol=0.001,\n",
       "    verbose=False)"
      ]
     },
     "execution_count": 10,
     "metadata": {},
     "output_type": "execute_result"
    }
   ],
   "source": [
    "svc = SVC(kernel = 'linear', gamma='auto', random_state = 1)\n",
    "svc.fit(x_train, y_train)\n",
    "\n",
    "# 30 MINUTES"
   ]
  },
  {
   "cell_type": "code",
   "execution_count": 11,
   "metadata": {},
   "outputs": [
    {
     "name": "stdout",
     "output_type": "stream",
     "text": [
      "              precision    recall  f1-score   support\n",
      "\n",
      "       Dünya       0.80      0.83      0.82      2676\n",
      "     Maraqlı       0.82      0.78      0.80      3182\n",
      "  Mədəniyyət       0.84      0.67      0.75       301\n",
      "     Siyasət       0.85      0.86      0.86      1300\n",
      "       İdman       0.90      0.96      0.93      1256\n",
      "İqtisadiyyat       0.87      0.88      0.88      1285\n",
      "\n",
      "    accuracy                           0.84     10000\n",
      "   macro avg       0.85      0.83      0.84     10000\n",
      "weighted avg       0.84      0.84      0.84     10000\n",
      "\n"
     ]
    }
   ],
   "source": [
    "pred_svc = svc.predict(x_test)\n",
    "print(classification_report(y_test, pred_svc))"
   ]
  },
  {
   "cell_type": "code",
   "execution_count": 12,
   "metadata": {},
   "outputs": [
    {
     "name": "stdout",
     "output_type": "stream",
     "text": [
      "[[2221  335    4   47   35   34]\n",
      " [ 399 2489   21   91   90   92]\n",
      " [  11   69  203   16    0    2]\n",
      " [  80   56    5 1124    3   32]\n",
      " [  19   22    0    5 1206    4]\n",
      " [  41   49    8   44    6 1137]]\n"
     ]
    }
   ],
   "source": [
    "print(confusion_matrix(y_test, pred_svc))"
   ]
  },
  {
   "cell_type": "markdown",
   "metadata": {},
   "source": [
    "## MULTILAYER PERCEPTRON"
   ]
  },
  {
   "cell_type": "code",
   "execution_count": 5,
   "metadata": {},
   "outputs": [
    {
     "name": "stderr",
     "output_type": "stream",
     "text": [
      "c:\\users\\hp\\appdata\\local\\programs\\python\\python38-32\\lib\\site-packages\\sklearn\\neural_network\\_multilayer_perceptron.py:568: ConvergenceWarning: Stochastic Optimizer: Maximum iterations (100) reached and the optimization hasn't converged yet.\n",
      "  warnings.warn(\n"
     ]
    },
    {
     "data": {
      "text/plain": [
       "MLPClassifier(activation='relu', alpha=0.0001, batch_size='auto', beta_1=0.9,\n",
       "              beta_2=0.999, early_stopping=False, epsilon=1e-08,\n",
       "              hidden_layer_sizes=(10, 10, 10), learning_rate='constant',\n",
       "              learning_rate_init=0.001, max_fun=15000, max_iter=100,\n",
       "              momentum=0.9, n_iter_no_change=10, nesterovs_momentum=True,\n",
       "              power_t=0.5, random_state=1, shuffle=True, solver='adam',\n",
       "              tol=0.0001, validation_fraction=0.1, verbose=False,\n",
       "              warm_start=False)"
      ]
     },
     "execution_count": 5,
     "metadata": {},
     "output_type": "execute_result"
    }
   ],
   "source": [
    "mlp = MLPClassifier(max_iter=100, random_state=1, hidden_layer_sizes=(10,10,10))\n",
    "\n",
    "mlp.fit(x_train, y_train)\n",
    "\n",
    "# 63 MINUTES"
   ]
  },
  {
   "cell_type": "code",
   "execution_count": 6,
   "metadata": {},
   "outputs": [
    {
     "name": "stdout",
     "output_type": "stream",
     "text": [
      "              precision    recall  f1-score   support\n",
      "\n",
      "       Dünya       0.76      0.79      0.78      2676\n",
      "     Maraqlı       0.78      0.76      0.77      3182\n",
      "  Mədəniyyət       0.67      0.65      0.66       301\n",
      "     Siyasət       0.80      0.83      0.81      1300\n",
      "       İdman       0.90      0.88      0.89      1256\n",
      "İqtisadiyyat       0.87      0.85      0.86      1285\n",
      "\n",
      "    accuracy                           0.80     10000\n",
      "   macro avg       0.80      0.79      0.80     10000\n",
      "weighted avg       0.80      0.80      0.80     10000\n",
      "\n"
     ]
    }
   ],
   "source": [
    "pred_mlp = mlp.predict(x_test)\n",
    "print(classification_report(y_test, pred_mlp))"
   ]
  },
  {
   "cell_type": "code",
   "execution_count": 7,
   "metadata": {},
   "outputs": [
    {
     "name": "stdout",
     "output_type": "stream",
     "text": [
      "[[2123  410    6   81   23   33]\n",
      " [ 473 2414   53   86   82   74]\n",
      " [   7   62  197   22    1   12]\n",
      " [  87   72   15 1080   10   36]\n",
      " [  45   67    1   31 1111    1]\n",
      " [  53   58   24   56    5 1089]]\n"
     ]
    }
   ],
   "source": [
    "print(confusion_matrix(y_test, pred_mlp))"
   ]
  },
  {
   "cell_type": "markdown",
   "metadata": {},
   "source": [
    "## DECISION TREE"
   ]
  },
  {
   "cell_type": "code",
   "execution_count": 25,
   "metadata": {},
   "outputs": [
    {
     "data": {
      "text/plain": [
       "DecisionTreeClassifier(ccp_alpha=0.0, class_weight=None, criterion='gini',\n",
       "                       max_depth=None, max_features=None, max_leaf_nodes=None,\n",
       "                       min_impurity_decrease=0.0, min_impurity_split=None,\n",
       "                       min_samples_leaf=1, min_samples_split=2,\n",
       "                       min_weight_fraction_leaf=0.0, presort='deprecated',\n",
       "                       random_state=None, splitter='best')"
      ]
     },
     "execution_count": 25,
     "metadata": {},
     "output_type": "execute_result"
    }
   ],
   "source": [
    "# with just criterion=entropy accuracy is 73\n",
    "# (criterion='entropy', random_state = 1) accuracy = 73\n",
    "# (criterion='entropy', random_state = 1, max_features='auto') accuracy = 61\n",
    "# (criterion='entropy', random_state = 1, max_features='log2') accuracy = 58\n",
    "# default parameters (criterion = gini), accuracy = 74\n",
    "# (criterion = gini, random_state = 1), accuracy = 74\n",
    "# (criterion='gini', random_state = 1, max_features='auto'), accuracy = 63\n",
    "# therefore best option is 74 with default parameters\n",
    "\n",
    "tree = tree.DecisionTreeClassifier()\n",
    "tree.fit(x_train, y_train)\n",
    "\n",
    "# 4 MINUTES"
   ]
  },
  {
   "cell_type": "code",
   "execution_count": 26,
   "metadata": {},
   "outputs": [
    {
     "name": "stdout",
     "output_type": "stream",
     "text": [
      "              precision    recall  f1-score   support\n",
      "\n",
      "       Dünya       0.72      0.74      0.73      2676\n",
      "     Maraqlı       0.72      0.74      0.73      3182\n",
      "  Mədəniyyət       0.58      0.50      0.53       301\n",
      "     Siyasət       0.74      0.74      0.74      1300\n",
      "       İdman       0.86      0.82      0.84      1256\n",
      "İqtisadiyyat       0.75      0.74      0.75      1285\n",
      "\n",
      "    accuracy                           0.74     10000\n",
      "   macro avg       0.73      0.71      0.72     10000\n",
      "weighted avg       0.74      0.74      0.74     10000\n",
      "\n"
     ]
    }
   ],
   "source": [
    "pred_tree = tree.predict(x_test)\n",
    "print(classification_report(y_test, pred_tree))"
   ]
  },
  {
   "cell_type": "code",
   "execution_count": 27,
   "metadata": {},
   "outputs": [
    {
     "name": "stdout",
     "output_type": "stream",
     "text": [
      "[[1980  481   19   71   48   77]\n",
      " [ 470 2356   42  121   86  107]\n",
      " [  33   68  149   33    1   17]\n",
      " [  95  130   20  958   14   83]\n",
      " [  84  100    7   17 1025   23]\n",
      " [  90  118   21   98   12  946]]\n"
     ]
    }
   ],
   "source": [
    "print(confusion_matrix(y_test, pred_tree))"
   ]
  }
 ],
 "metadata": {
  "kernelspec": {
   "display_name": "Python 3",
   "language": "python",
   "name": "python3"
  },
  "language_info": {
   "codemirror_mode": {
    "name": "ipython",
    "version": 3
   },
   "file_extension": ".py",
   "mimetype": "text/x-python",
   "name": "python",
   "nbconvert_exporter": "python",
   "pygments_lexer": "ipython3",
   "version": "3.8.1"
  }
 },
 "nbformat": 4,
 "nbformat_minor": 4
}
