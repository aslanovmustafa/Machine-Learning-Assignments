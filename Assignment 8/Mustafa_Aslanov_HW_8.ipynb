{
  "nbformat": 4,
  "nbformat_minor": 0,
  "metadata": {
    "kernelspec": {
      "display_name": "Python 3",
      "language": "python",
      "name": "python3"
    },
    "language_info": {
      "codemirror_mode": {
        "name": "ipython",
        "version": 3
      },
      "file_extension": ".py",
      "mimetype": "text/x-python",
      "name": "python",
      "nbconvert_exporter": "python",
      "pygments_lexer": "ipython3",
      "version": "3.7.6"
    },
    "colab": {
      "name": "Mustafa_Aslanov_HW_8.ipynb",
      "provenance": [],
      "collapsed_sections": [
        "t0MwoCHIcSHl"
      ],
      "toc_visible": true,
      "machine_shape": "hm"
    },
    "accelerator": "GPU"
  },
  "cells": [
    {
      "cell_type": "markdown",
      "metadata": {
        "id": "i34AwySY0VeL",
        "colab_type": "text"
      },
      "source": [
        "Loading Data"
      ]
    },
    {
      "cell_type": "code",
      "metadata": {
        "id": "ZgapGpAp7IBg",
        "colab_type": "code",
        "outputId": "892fc4fa-9684-4861-dddd-19c9b352bf4c",
        "colab": {
          "base_uri": "https://localhost:8080/",
          "height": 35
        }
      },
      "source": [
        "'''\n",
        "Mustafa Aslanov HW8\n",
        "'''"
      ],
      "execution_count": 0,
      "outputs": [
        {
          "output_type": "execute_result",
          "data": {
            "text/plain": [
              "'\\nMustafa Aslanov HW8\\n'"
            ]
          },
          "metadata": {
            "tags": []
          },
          "execution_count": 44
        }
      ]
    },
    {
      "cell_type": "code",
      "metadata": {
        "id": "oc56_Gz6d2u6",
        "colab_type": "code",
        "colab": {
          "base_uri": "https://localhost:8080/",
          "height": 34
        },
        "outputId": "f9b05558-46c3-445c-d844-de45ba8973db"
      },
      "source": [
        "import pandas as pd\n",
        "import numpy as np\n",
        "from sklearn.neural_network import MLPClassifier\n",
        "import matplotlib.pyplot as plt \n",
        "import keras \n",
        "from sklearn.model_selection import train_test_split \n",
        "from sklearn.metrics import classification_report\n",
        "from PIL import Image\n",
        "import re"
      ],
      "execution_count": 1,
      "outputs": [
        {
          "output_type": "stream",
          "text": [
            "Using TensorFlow backend.\n"
          ],
          "name": "stderr"
        }
      ]
    },
    {
      "cell_type": "code",
      "metadata": {
        "id": "jzOcoA_g0gRc",
        "colab_type": "code",
        "colab": {}
      },
      "source": [
        "from keras.utils import to_categorical \n",
        "from keras.models import Sequential \n",
        "from keras.layers import Conv2D, MaxPooling2D \n",
        "from keras.layers import Dense, Dropout \n",
        "from keras.layers import Flatten, BatchNormalization"
      ],
      "execution_count": 0,
      "outputs": []
    },
    {
      "cell_type": "markdown",
      "metadata": {
        "id": "t0MwoCHIcSHl",
        "colab_type": "text"
      },
      "source": [
        "# Handchars"
      ]
    },
    {
      "cell_type": "code",
      "metadata": {
        "id": "6e7nCZTufEbW",
        "colab_type": "code",
        "colab": {}
      },
      "source": [
        "train_150 = pd.read_csv('HandChars_150_Train.txt', sep='#', engine='python')\n",
        "test_50 = pd.read_csv('HandChars_50_Test.txt', sep='#', engine='python')\n",
        "\n",
        "train_labels_150 = train_150.PatN\n",
        "train_type_150 = train_150.PatType\n",
        "train_prob_150 = train_150.PatProb\n",
        "train_height_150 = train_150.SizeH\n",
        "train_width_150 = train_150.SizeW\n",
        "train_data_150 = train_150.Data\n",
        "\n",
        "test_labels_50 = test_50.PatN\n",
        "test_type_50 = test_50.PatType\n",
        "test_prob_50 = test_50.PatProb\n",
        "test_height_50 = test_50.SizeH\n",
        "test_width_50 = test_50.SizeW\n",
        "test_data_50 = test_50.Data"
      ],
      "execution_count": 0,
      "outputs": []
    },
    {
      "cell_type": "code",
      "metadata": {
        "id": "tnr81UDld2vk",
        "colab_type": "code",
        "colab": {}
      },
      "source": [
        "train_float_150=[]\n",
        "for i in range (0,train_data_150.shape[0]):\n",
        "  train_float_150.append(list(train_data_150[i]))\n",
        "\n",
        "test_float_50=[]\n",
        "for i in range (0,test_data_50.shape[0]):\n",
        "  test_float_50.append(list(test_data_50[i]))"
      ],
      "execution_count": 0,
      "outputs": []
    },
    {
      "cell_type": "code",
      "metadata": {
        "id": "f6WtUc6Zo10F",
        "colab_type": "code",
        "colab": {}
      },
      "source": [
        "train_float_150 = pd.DataFrame(train_float_150) \n",
        "test_float_50 = pd.DataFrame(test_float_50) "
      ],
      "execution_count": 0,
      "outputs": []
    },
    {
      "cell_type": "code",
      "metadata": {
        "id": "hByzkOKQQ4gQ",
        "colab_type": "code",
        "colab": {}
      },
      "source": [
        "train_float_150 = train_float_150.replace({None: 0})\n",
        "test_float_50 = test_float_50.replace({None: 0}) "
      ],
      "execution_count": 0,
      "outputs": []
    },
    {
      "cell_type": "code",
      "metadata": {
        "id": "w5RMccJp8Mgx",
        "colab_type": "code",
        "colab": {}
      },
      "source": [
        "traindata_150= np.array(train_float_150)\n",
        "testdata_50 = np.array(test_float_50) "
      ],
      "execution_count": 0,
      "outputs": []
    },
    {
      "cell_type": "code",
      "metadata": {
        "id": "--skdTx48Mms",
        "colab_type": "code",
        "colab": {}
      },
      "source": [
        "# adding padding to make them all same size\n",
        "traindata_150 = np.pad(traindata_150,((0,0),(188,188)),'constant')\n",
        "testdata_50 = np.pad(testdata_50,((0,0),(3,3)),'constant') #72x71"
      ],
      "execution_count": 0,
      "outputs": []
    },
    {
      "cell_type": "markdown",
      "metadata": {
        "id": "kaQwKrY47_Tq",
        "colab_type": "text"
      },
      "source": [
        "## MLP for Handchars\n"
      ]
    },
    {
      "cell_type": "code",
      "metadata": {
        "id": "SdTECgNPHkvO",
        "colab_type": "code",
        "colab": {}
      },
      "source": [
        "mlp_150 = MLPClassifier(hidden_layer_sizes=(120,120,120),max_iter= 400)"
      ],
      "execution_count": 0,
      "outputs": []
    },
    {
      "cell_type": "code",
      "metadata": {
        "id": "hTnGCqkEd2vs",
        "colab_type": "code",
        "outputId": "cb031e54-1dd2-48d1-878b-ea6163c0c4d0",
        "colab": {
          "base_uri": "https://localhost:8080/",
          "height": 163
        }
      },
      "source": [
        "mlp_150.fit(traindata_150, train_labels_150)"
      ],
      "execution_count": 0,
      "outputs": [
        {
          "output_type": "execute_result",
          "data": {
            "text/plain": [
              "MLPClassifier(activation='relu', alpha=0.0001, batch_size='auto', beta_1=0.9,\n",
              "              beta_2=0.999, early_stopping=False, epsilon=1e-08,\n",
              "              hidden_layer_sizes=(120, 120, 120), learning_rate='constant',\n",
              "              learning_rate_init=0.001, max_fun=15000, max_iter=400,\n",
              "              momentum=0.9, n_iter_no_change=10, nesterovs_momentum=True,\n",
              "              power_t=0.5, random_state=None, shuffle=True, solver='adam',\n",
              "              tol=0.0001, validation_fraction=0.1, verbose=False,\n",
              "              warm_start=False)"
            ]
          },
          "metadata": {
            "tags": []
          },
          "execution_count": 54
        }
      ]
    },
    {
      "cell_type": "code",
      "metadata": {
        "id": "0c3sTw7kd2vu",
        "colab_type": "code",
        "colab": {}
      },
      "source": [
        "predictions_150 = mlp_150.predict(testdata_50)"
      ],
      "execution_count": 0,
      "outputs": []
    },
    {
      "cell_type": "code",
      "metadata": {
        "id": "xMq9ACZpImlL",
        "colab_type": "code",
        "outputId": "25e6dbc3-8e18-4e4c-815c-e7fa8e1638a8",
        "colab": {
          "base_uri": "https://localhost:8080/",
          "height": 654
        }
      },
      "source": [
        "print(classification_report(test_labels_50, predictions_150))"
      ],
      "execution_count": 0,
      "outputs": [
        {
          "output_type": "stream",
          "text": [
            "              precision    recall  f1-score   support\n",
            "\n",
            "           0       0.43      0.46      0.45        50\n",
            "           1       0.38      0.36      0.37        50\n",
            "           2       0.36      0.38      0.37        50\n",
            "           3       0.32      0.34      0.33        50\n",
            "           4       0.26      0.22      0.24        50\n",
            "           5       0.44      0.58      0.50        50\n",
            "           6       0.38      0.34      0.36        50\n",
            "           7       0.44      0.30      0.36        50\n",
            "           8       0.31      0.34      0.33        50\n",
            "           9       0.38      0.30      0.33        50\n",
            "          10       0.53      0.52      0.53        50\n",
            "          11       0.46      0.38      0.42        50\n",
            "          12       0.29      0.30      0.30        50\n",
            "          13       0.61      0.74      0.67        50\n",
            "          14       0.53      0.46      0.49        50\n",
            "          15       0.37      0.46      0.41        50\n",
            "          16       0.36      0.40      0.38        50\n",
            "          17       0.53      0.46      0.49        50\n",
            "          18       0.34      0.26      0.30        50\n",
            "          19       0.36      0.30      0.33        50\n",
            "          20       0.18      0.22      0.20        50\n",
            "          21       0.19      0.20      0.19        50\n",
            "          22       0.68      0.72      0.70        50\n",
            "          23       0.28      0.24      0.26        50\n",
            "          24       0.33      0.34      0.33        50\n",
            "          25       0.25      0.28      0.26        50\n",
            "          26       0.20      0.20      0.20        50\n",
            "          27       0.37      0.44      0.40        50\n",
            "\n",
            "    accuracy                           0.38      1400\n",
            "   macro avg       0.38      0.38      0.37      1400\n",
            "weighted avg       0.38      0.38      0.37      1400\n",
            "\n"
          ],
          "name": "stdout"
        }
      ]
    },
    {
      "cell_type": "markdown",
      "metadata": {
        "id": "xA5t4-dR765i",
        "colab_type": "text"
      },
      "source": [
        "##CNN for Handchars\n"
      ]
    },
    {
      "cell_type": "code",
      "metadata": {
        "id": "pNhjBZOX25Wx",
        "colab_type": "code",
        "colab": {}
      },
      "source": [
        "trainY = to_categorical(train_float_150.iloc[:, 0], num_classes=28) \n",
        "testY = to_categorical(test_float_50.iloc[:, 0], num_classes=28) "
      ],
      "execution_count": 0,
      "outputs": []
    },
    {
      "cell_type": "code",
      "metadata": {
        "id": "vg3H3MJz1b27",
        "colab_type": "code",
        "colab": {
          "base_uri": "https://localhost:8080/",
          "height": 34
        },
        "outputId": "72b30981-0123-478e-f540-cd409cd6cb7a"
      },
      "source": [
        "trainY.shape"
      ],
      "execution_count": 27,
      "outputs": [
        {
          "output_type": "execute_result",
          "data": {
            "text/plain": [
              "(4200, 28)"
            ]
          },
          "metadata": {
            "tags": []
          },
          "execution_count": 27
        }
      ]
    },
    {
      "cell_type": "code",
      "metadata": {
        "id": "uhjZQvNeUYRr",
        "colab_type": "code",
        "colab": {}
      },
      "source": [
        "rows = 72\n",
        "cols = 71\n",
        "\n",
        "# reshaping data to fit in CNN \n",
        "traindata = traindata_150.reshape(traindata_150.shape[0], rows, cols, 1)\n",
        "testdata = testdata_50.reshape(testdata_50.shape[0], rows, cols, 1)\n",
        "\n",
        "# traindata = traindata.astype('float32')\n",
        "# testdata = testdata.astype('float32')"
      ],
      "execution_count": 0,
      "outputs": []
    },
    {
      "cell_type": "code",
      "metadata": {
        "id": "iU3dkOW-UYaZ",
        "colab_type": "code",
        "colab": {}
      },
      "source": [
        "def baseline_model():\n",
        "    model = Sequential()\n",
        "    model.add(BatchNormalization(input_shape=(rows, cols, 1)))\n",
        "    model.add(Conv2D(50, (3, 3), padding='same', activation='relu'))\n",
        "    model.add(MaxPooling2D(pool_size=(2, 2), strides=(2,2)))\n",
        "    model.add(Dropout(0.25))\n",
        "    \n",
        "    model.add(BatchNormalization())\n",
        "    model.add(Conv2D(100, (3, 3), padding='same', activation='relu'))\n",
        "    model.add(MaxPooling2D(pool_size=(2, 2)))\n",
        "    model.add(Dropout(0.25))\n",
        "\n",
        "    model.add(BatchNormalization())\n",
        "    model.add(Conv2D(150, (3, 3), padding='same', activation='relu'))\n",
        "    model.add(MaxPooling2D(pool_size=(2, 2)))\n",
        "    model.add(Dropout(0.25))\n",
        "\n",
        "    model.add(Flatten())\n",
        "    model.add(Dense(150, activation='relu'))\n",
        "    model.add(Dropout(0.5))\n",
        "    model.add(Dense(28, activation='softmax'))\n",
        "    return model"
      ],
      "execution_count": 0,
      "outputs": []
    },
    {
      "cell_type": "code",
      "metadata": {
        "id": "0L2F9xurUYdB",
        "colab_type": "code",
        "colab": {}
      },
      "source": [
        "model = baseline_model()\n",
        "model.compile(loss='categorical_crossentropy', optimizer=keras.optimizers.Adadelta(), metrics=['accuracy'])"
      ],
      "execution_count": 0,
      "outputs": []
    },
    {
      "cell_type": "code",
      "metadata": {
        "id": "HOjbWODbUYfx",
        "colab_type": "code",
        "outputId": "1c39e1e8-54ba-47d5-da7d-93be6d042707",
        "colab": {
          "base_uri": "https://localhost:8080/",
          "height": 204
        }
      },
      "source": [
        "history = model.fit(traindata, trainY,\n",
        "          batch_size=512,\n",
        "          epochs=5,\n",
        "          verbose=2,\n",
        "          validation_data=(testdata, testY))"
      ],
      "execution_count": 29,
      "outputs": [
        {
          "output_type": "stream",
          "text": [
            "Train on 4200 samples, validate on 1400 samples\n",
            "Epoch 1/5\n",
            " - 8s - loss: 0.1188 - accuracy: 0.9800 - val_loss: 1.1086 - val_accuracy: 0.9857\n",
            "Epoch 2/5\n",
            " - 8s - loss: 0.1133 - accuracy: 0.9826 - val_loss: 0.4862 - val_accuracy: 0.9857\n",
            "Epoch 3/5\n",
            " - 8s - loss: 0.1328 - accuracy: 0.9800 - val_loss: 0.5248 - val_accuracy: 0.9857\n",
            "Epoch 4/5\n",
            " - 8s - loss: 0.1080 - accuracy: 0.9814 - val_loss: 0.4248 - val_accuracy: 0.9857\n",
            "Epoch 5/5\n",
            " - 8s - loss: 0.1101 - accuracy: 0.9821 - val_loss: 0.2457 - val_accuracy: 0.9857\n"
          ],
          "name": "stdout"
        }
      ]
    },
    {
      "cell_type": "markdown",
      "metadata": {
        "id": "W02FA3QYPRhg",
        "colab_type": "text"
      },
      "source": [
        "#Handchars 32"
      ]
    },
    {
      "cell_type": "code",
      "metadata": {
        "id": "bcSmusgaH4vE",
        "colab_type": "code",
        "colab": {}
      },
      "source": [
        "train32_150 = pd.read_csv('HandChars32_150_Train.txt', sep='#', engine='python')\n",
        "test32_50 = pd.read_csv('HandChars32_50_Test.txt', sep='#', engine='python')\n",
        "\n",
        "train_labels32_150 = train32_150.PatN\n",
        "train_type32_150 = train32_150.PatType\n",
        "train_prob32_150 = train32_150.PatProb\n",
        "train_height32_150 = 32\n",
        "train_width32_150 = 32\n",
        "train_data32_150 = train32_150.Data\n",
        "\n",
        "test_labels32_50 = test32_50.PatN\n",
        "test_type32_50 = test32_50.PatType\n",
        "test_prob32_50 = test32_50.PatProb\n",
        "test_height32_50 = 32\n",
        "test_width32_50 = 32\n",
        "test_data32_50 = test32_50.Data"
      ],
      "execution_count": 0,
      "outputs": []
    },
    {
      "cell_type": "code",
      "metadata": {
        "id": "6-JKO0xUP7Zk",
        "colab_type": "code",
        "colab": {}
      },
      "source": [
        "train_float32=[]\n",
        "for i in range (0,train_data32_150.shape[0]):\n",
        "  train_float32.append(list(train_data32_150[i]))\n",
        "\n",
        "test_float32=[]\n",
        "for i in range (0,test_data32_50.shape[0]):\n",
        "  test_float32.append(list(test_data32_50[i]))"
      ],
      "execution_count": 0,
      "outputs": []
    },
    {
      "cell_type": "code",
      "metadata": {
        "id": "U2wDiLJyP-Fq",
        "colab_type": "code",
        "colab": {}
      },
      "source": [
        "train_float32 = pd.DataFrame(train_float32) \n",
        "test_float32 = pd.DataFrame(test_float32) "
      ],
      "execution_count": 0,
      "outputs": []
    },
    {
      "cell_type": "markdown",
      "metadata": {
        "id": "VVJQ6iDeexwq",
        "colab_type": "text"
      },
      "source": [
        "## MLP for Handchars 32"
      ]
    },
    {
      "cell_type": "code",
      "metadata": {
        "id": "BQpSEpYbPaSU",
        "colab_type": "code",
        "colab": {}
      },
      "source": [
        "mlp32 = MLPClassifier(hidden_layer_sizes=(120,120,120),max_iter= 400)"
      ],
      "execution_count": 0,
      "outputs": []
    },
    {
      "cell_type": "code",
      "metadata": {
        "id": "umzp_JvqPl5N",
        "colab_type": "code",
        "outputId": "ab2694c4-f802-459b-9251-18ea11bf705c",
        "colab": {
          "base_uri": "https://localhost:8080/",
          "height": 163
        }
      },
      "source": [
        "mlp32.fit(train_float32, train_labels32_150)"
      ],
      "execution_count": 0,
      "outputs": [
        {
          "output_type": "execute_result",
          "data": {
            "text/plain": [
              "MLPClassifier(activation='relu', alpha=0.0001, batch_size='auto', beta_1=0.9,\n",
              "              beta_2=0.999, early_stopping=False, epsilon=1e-08,\n",
              "              hidden_layer_sizes=(120, 120, 120), learning_rate='constant',\n",
              "              learning_rate_init=0.001, max_fun=15000, max_iter=400,\n",
              "              momentum=0.9, n_iter_no_change=10, nesterovs_momentum=True,\n",
              "              power_t=0.5, random_state=None, shuffle=True, solver='adam',\n",
              "              tol=0.0001, validation_fraction=0.1, verbose=False,\n",
              "              warm_start=False)"
            ]
          },
          "metadata": {
            "tags": []
          },
          "execution_count": 69
        }
      ]
    },
    {
      "cell_type": "code",
      "metadata": {
        "id": "chDq1IeWPnG7",
        "colab_type": "code",
        "colab": {}
      },
      "source": [
        "predictions32 = mlp32.predict(test_float32)"
      ],
      "execution_count": 0,
      "outputs": []
    },
    {
      "cell_type": "code",
      "metadata": {
        "id": "qHeUqj5LRiLJ",
        "colab_type": "code",
        "outputId": "1899a283-932f-4a90-d17f-d64927a13237",
        "colab": {
          "base_uri": "https://localhost:8080/",
          "height": 654
        }
      },
      "source": [
        "print(classification_report(test_labels32_50, predictions32))"
      ],
      "execution_count": 0,
      "outputs": [
        {
          "output_type": "stream",
          "text": [
            "              precision    recall  f1-score   support\n",
            "\n",
            "           0       0.62      0.62      0.62        50\n",
            "           1       0.62      0.80      0.70        50\n",
            "           2       0.69      0.92      0.79        50\n",
            "           3       0.88      0.70      0.78        50\n",
            "           4       0.58      0.62      0.60        50\n",
            "           5       0.79      0.90      0.84        50\n",
            "           6       0.67      0.90      0.77        50\n",
            "           7       0.85      0.68      0.76        50\n",
            "           8       0.87      0.78      0.82        50\n",
            "           9       0.75      0.76      0.75        50\n",
            "          10       0.92      0.48      0.63        50\n",
            "          11       0.70      0.86      0.77        50\n",
            "          12       0.65      0.66      0.65        50\n",
            "          13       0.79      0.62      0.70        50\n",
            "          14       0.48      0.74      0.58        50\n",
            "          15       0.70      0.76      0.73        50\n",
            "          16       0.85      0.58      0.69        50\n",
            "          17       0.92      0.88      0.90        50\n",
            "          18       0.66      0.66      0.66        50\n",
            "          19       0.60      0.64      0.62        50\n",
            "          20       0.73      0.82      0.77        50\n",
            "          21       0.89      0.34      0.49        50\n",
            "          22       0.71      0.84      0.77        50\n",
            "          23       0.65      0.80      0.71        50\n",
            "          24       0.76      0.70      0.73        50\n",
            "          25       0.76      0.70      0.73        50\n",
            "          26       0.69      0.36      0.47        50\n",
            "          27       0.58      0.68      0.62        50\n",
            "\n",
            "    accuracy                           0.71      1400\n",
            "   macro avg       0.73      0.71      0.70      1400\n",
            "weighted avg       0.73      0.71      0.70      1400\n",
            "\n"
          ],
          "name": "stdout"
        }
      ]
    },
    {
      "cell_type": "markdown",
      "metadata": {
        "id": "xCbkLdr5Tkm9",
        "colab_type": "text"
      },
      "source": [
        "##CNN for Handchars 32"
      ]
    },
    {
      "cell_type": "code",
      "metadata": {
        "id": "09kOxwmtUFZ8",
        "colab_type": "code",
        "colab": {}
      },
      "source": [
        "traindata32= np.array(train_float32)\n",
        "testdata32 = np.array(test_float32) "
      ],
      "execution_count": 0,
      "outputs": []
    },
    {
      "cell_type": "code",
      "metadata": {
        "id": "Qs7ewvpiVsLA",
        "colab_type": "code",
        "colab": {}
      },
      "source": [
        "trainY32 = to_categorical(train_labels32_150) \n",
        "testY32 = to_categorical(test_labels32_50) "
      ],
      "execution_count": 0,
      "outputs": []
    },
    {
      "cell_type": "code",
      "metadata": {
        "id": "hK_aEFVa6p7O",
        "colab_type": "code",
        "colab": {}
      },
      "source": [
        "rows32 = 32\n",
        "cols32 = 32\n",
        "\n",
        "# reshaping data to fit in CNN \n",
        "traindata32 = traindata32.reshape(train_data32_150.shape[0], rows32, cols32, 1)\n",
        "testdata32 = testdata32.reshape(test_data32_50.shape[0], rows32, cols32, 1)\n",
        "\n",
        "# traindata32 = traindata32.astype('float32')\n",
        "# testdata32 = testdata32.astype('float32')"
      ],
      "execution_count": 0,
      "outputs": []
    },
    {
      "cell_type": "code",
      "metadata": {
        "id": "dVtt3PgQUDPl",
        "colab_type": "code",
        "colab": {}
      },
      "source": [
        "def baseline_model32():\n",
        "    model = Sequential()\n",
        "    model.add(BatchNormalization(input_shape=(rows32, cols32, 1)))\n",
        "    model.add(Conv2D(50, (3, 3), padding='same', activation='relu'))\n",
        "    model.add(MaxPooling2D(pool_size=(2, 2), strides=(2,2)))\n",
        "    model.add(Dropout(0.25))\n",
        "    \n",
        "    model.add(BatchNormalization())\n",
        "    model.add(Conv2D(100, (3, 3), padding='same', activation='relu'))\n",
        "    model.add(MaxPooling2D(pool_size=(2, 2)))\n",
        "    model.add(Dropout(0.25))\n",
        "\n",
        "    model.add(BatchNormalization())\n",
        "    model.add(Conv2D(150, (3, 3), padding='same', activation='relu'))\n",
        "    model.add(MaxPooling2D(pool_size=(2, 2)))\n",
        "    model.add(Dropout(0.25))\n",
        "\n",
        "    model.add(Flatten())\n",
        "    model.add(Dense(150, activation='relu'))\n",
        "    model.add(Dropout(0.5))\n",
        "    model.add(Dense(28, activation='softmax'))\n",
        "    return model"
      ],
      "execution_count": 0,
      "outputs": []
    },
    {
      "cell_type": "code",
      "metadata": {
        "id": "BQutaRtXWCnu",
        "colab_type": "code",
        "colab": {}
      },
      "source": [
        "model32 = baseline_model32()\n",
        "model32.compile(loss='categorical_crossentropy', optimizer=keras.optimizers.Adadelta(), metrics=['accuracy'])"
      ],
      "execution_count": 0,
      "outputs": []
    },
    {
      "cell_type": "code",
      "metadata": {
        "id": "QCr_s4L1WIc9",
        "colab_type": "code",
        "outputId": "1233f5e7-1b22-4613-9818-5709746a3ac4",
        "colab": {
          "base_uri": "https://localhost:8080/",
          "height": 714
        }
      },
      "source": [
        "history32 = model32.fit(traindata32, trainY32,\n",
        "          batch_size=512,\n",
        "          epochs=20,\n",
        "          verbose=2,\n",
        "          validation_data=(testdata32, testY32))"
      ],
      "execution_count": 0,
      "outputs": [
        {
          "output_type": "stream",
          "text": [
            "Train on 4200 samples, validate on 1400 samples\n",
            "Epoch 1/20\n",
            " - 1s - loss: 0.0913 - accuracy: 0.9695 - val_loss: 0.8933 - val_accuracy: 0.8071\n",
            "Epoch 2/20\n",
            " - 1s - loss: 0.1000 - accuracy: 0.9681 - val_loss: 1.0197 - val_accuracy: 0.7600\n",
            "Epoch 3/20\n",
            " - 1s - loss: 0.0772 - accuracy: 0.9738 - val_loss: 1.0755 - val_accuracy: 0.7614\n",
            "Epoch 4/20\n",
            " - 1s - loss: 0.0678 - accuracy: 0.9764 - val_loss: 1.1624 - val_accuracy: 0.7650\n",
            "Epoch 5/20\n",
            " - 1s - loss: 0.0741 - accuracy: 0.9738 - val_loss: 0.7469 - val_accuracy: 0.8379\n",
            "Epoch 6/20\n",
            " - 1s - loss: 0.0775 - accuracy: 0.9693 - val_loss: 0.9245 - val_accuracy: 0.8243\n",
            "Epoch 7/20\n",
            " - 1s - loss: 0.0716 - accuracy: 0.9750 - val_loss: 0.9778 - val_accuracy: 0.8121\n",
            "Epoch 8/20\n",
            " - 1s - loss: 0.0609 - accuracy: 0.9795 - val_loss: 0.8479 - val_accuracy: 0.8314\n",
            "Epoch 9/20\n",
            " - 1s - loss: 0.0770 - accuracy: 0.9721 - val_loss: 0.8274 - val_accuracy: 0.8386\n",
            "Epoch 10/20\n",
            " - 1s - loss: 0.0715 - accuracy: 0.9757 - val_loss: 0.9312 - val_accuracy: 0.8279\n",
            "Epoch 11/20\n",
            " - 1s - loss: 0.0674 - accuracy: 0.9810 - val_loss: 0.7521 - val_accuracy: 0.8507\n",
            "Epoch 12/20\n",
            " - 1s - loss: 0.0686 - accuracy: 0.9769 - val_loss: 0.8805 - val_accuracy: 0.8386\n",
            "Epoch 13/20\n",
            " - 1s - loss: 0.0537 - accuracy: 0.9826 - val_loss: 0.8449 - val_accuracy: 0.8457\n",
            "Epoch 14/20\n",
            " - 1s - loss: 0.0679 - accuracy: 0.9781 - val_loss: 0.7487 - val_accuracy: 0.8550\n",
            "Epoch 15/20\n",
            " - 1s - loss: 0.0542 - accuracy: 0.9817 - val_loss: 0.7957 - val_accuracy: 0.8593\n",
            "Epoch 16/20\n",
            " - 1s - loss: 0.0514 - accuracy: 0.9833 - val_loss: 0.8487 - val_accuracy: 0.8464\n",
            "Epoch 17/20\n",
            " - 1s - loss: 0.0564 - accuracy: 0.9800 - val_loss: 0.8386 - val_accuracy: 0.8479\n",
            "Epoch 18/20\n",
            " - 1s - loss: 0.0523 - accuracy: 0.9788 - val_loss: 0.9957 - val_accuracy: 0.8329\n",
            "Epoch 19/20\n",
            " - 1s - loss: 0.0591 - accuracy: 0.9793 - val_loss: 0.8214 - val_accuracy: 0.8500\n",
            "Epoch 20/20\n",
            " - 1s - loss: 0.0549 - accuracy: 0.9810 - val_loss: 0.7967 - val_accuracy: 0.8500\n"
          ],
          "name": "stdout"
        }
      ]
    },
    {
      "cell_type": "markdown",
      "metadata": {
        "id": "Hf_OELgLZiLL",
        "colab_type": "text"
      },
      "source": [
        "#PDC calculated handchars"
      ]
    },
    {
      "cell_type": "code",
      "metadata": {
        "id": "-qRHcxmId2vA",
        "colab_type": "code",
        "colab": {}
      },
      "source": [
        "train_pdc = pd.read_csv('HandChars_FeatExt_PDC4428_150_Train.txt', sep='#', engine='python')\n",
        "test_pdc = pd.read_csv('HandChars_FeatExt_PDC4428_50_Test.txt', sep='#', engine='python')\n",
        "\n",
        "train_labels_pdc = train_pdc.PatN\n",
        "train_type_pdc   = train_pdc.PatType\n",
        "train_prob_pdc   = train_pdc.PatProb\n",
        "train_height_pdc = train_pdc.SizeH\n",
        "train_width_pdc = train_pdc.SizeW\n",
        "train_data_pdc  = train_pdc.Data\n",
        "\n",
        "test_labels_pdc = test_pdc.PatN\n",
        "test_type_pdc = test_pdc.PatType\n",
        "test_prob_pdc = test_pdc.PatProb\n",
        "test_height_pdc = test_pdc.SizeH\n",
        "test_width_pdc = test_pdc.SizeW\n",
        "test_data_pdc = test_pdc.Data"
      ],
      "execution_count": 0,
      "outputs": []
    },
    {
      "cell_type": "code",
      "metadata": {
        "id": "Tj4ag2gUg_Md",
        "colab_type": "code",
        "colab": {}
      },
      "source": [
        "traindata_pdc = []\n",
        "for row in train_data_pdc:\n",
        "  row = re.sub(r',', '.', row)\n",
        "  row = row.split(';')\n",
        "  traindata_pdc.append(row)\n",
        "\n",
        "testdata_pdc = []\n",
        "for row in test_data_pdc:\n",
        "  row = re.sub(r',', '.', row)\n",
        "  row = row.split(';')\n",
        "  testdata_pdc.append(row)"
      ],
      "execution_count": 0,
      "outputs": []
    },
    {
      "cell_type": "code",
      "metadata": {
        "id": "LsH5fN8_arzH",
        "colab_type": "code",
        "colab": {}
      },
      "source": [
        "traindata_pdc = pd.DataFrame(traindata_pdc) \n",
        "testdata_pdc = pd.DataFrame(testdata_pdc) "
      ],
      "execution_count": 0,
      "outputs": []
    },
    {
      "cell_type": "code",
      "metadata": {
        "id": "RwcHZyBFgurM",
        "colab_type": "code",
        "colab": {}
      },
      "source": [
        "traindataar_pdc= (np.array(traindata_pdc)).astype(\"float32\")\n",
        "testdataar_pdc = (np.array(testdata_pdc)).astype(\"float32\") "
      ],
      "execution_count": 0,
      "outputs": []
    },
    {
      "cell_type": "markdown",
      "metadata": {
        "id": "W6FwuMLkfM8r",
        "colab_type": "text"
      },
      "source": [
        "##MLP for PDC calculated handchars"
      ]
    },
    {
      "cell_type": "code",
      "metadata": {
        "id": "AGLNJojCarsf",
        "colab_type": "code",
        "colab": {}
      },
      "source": [
        "mlp_pdc = MLPClassifier(hidden_layer_sizes=(120,120,120),max_iter= 400)"
      ],
      "execution_count": 0,
      "outputs": []
    },
    {
      "cell_type": "code",
      "metadata": {
        "id": "AzfCBi2_arpK",
        "colab_type": "code",
        "outputId": "411e65ad-11e1-4f94-8ec8-6752f651d889",
        "colab": {
          "base_uri": "https://localhost:8080/",
          "height": 163
        }
      },
      "source": [
        "mlp_pdc.fit(traindata_pdc, train_labels_pdc)"
      ],
      "execution_count": 0,
      "outputs": [
        {
          "output_type": "execute_result",
          "data": {
            "text/plain": [
              "MLPClassifier(activation='relu', alpha=0.0001, batch_size='auto', beta_1=0.9,\n",
              "              beta_2=0.999, early_stopping=False, epsilon=1e-08,\n",
              "              hidden_layer_sizes=(120, 120, 120), learning_rate='constant',\n",
              "              learning_rate_init=0.001, max_fun=15000, max_iter=400,\n",
              "              momentum=0.9, n_iter_no_change=10, nesterovs_momentum=True,\n",
              "              power_t=0.5, random_state=None, shuffle=True, solver='adam',\n",
              "              tol=0.0001, validation_fraction=0.1, verbose=False,\n",
              "              warm_start=False)"
            ]
          },
          "metadata": {
            "tags": []
          },
          "execution_count": 84
        }
      ]
    },
    {
      "cell_type": "code",
      "metadata": {
        "id": "2exDfSUGunX0",
        "colab_type": "code",
        "colab": {}
      },
      "source": [
        "predictions_pdc = mlp_pdc.predict(testdata_pdc)"
      ],
      "execution_count": 0,
      "outputs": []
    },
    {
      "cell_type": "code",
      "metadata": {
        "id": "cko8k7vKunLp",
        "colab_type": "code",
        "outputId": "c74c7a3b-81b7-41af-8c82-7940b1b7fe6f",
        "colab": {
          "base_uri": "https://localhost:8080/",
          "height": 654
        }
      },
      "source": [
        "print(classification_report(test_labels_pdc, predictions_pdc))"
      ],
      "execution_count": 0,
      "outputs": [
        {
          "output_type": "stream",
          "text": [
            "              precision    recall  f1-score   support\n",
            "\n",
            "           0       0.78      0.94      0.85        50\n",
            "           1       0.84      0.94      0.89        50\n",
            "           2       0.82      0.94      0.88        50\n",
            "           3       0.90      0.72      0.80        50\n",
            "           4       0.88      0.58      0.70        50\n",
            "           5       0.67      0.94      0.78        50\n",
            "           6       0.69      0.96      0.80        50\n",
            "           7       0.86      0.62      0.72        50\n",
            "           8       0.83      0.90      0.87        50\n",
            "           9       0.82      0.82      0.82        50\n",
            "          10       0.84      0.76      0.80        50\n",
            "          11       0.67      0.86      0.75        50\n",
            "          12       0.82      0.80      0.81        50\n",
            "          13       0.95      0.78      0.86        50\n",
            "          14       0.80      0.80      0.80        50\n",
            "          15       0.85      0.90      0.87        50\n",
            "          16       1.00      0.82      0.90        50\n",
            "          17       0.94      0.92      0.93        50\n",
            "          18       0.80      0.88      0.84        50\n",
            "          19       0.83      0.80      0.82        50\n",
            "          20       0.73      0.92      0.81        50\n",
            "          21       0.96      0.50      0.66        50\n",
            "          22       0.89      0.96      0.92        50\n",
            "          23       0.78      0.90      0.83        50\n",
            "          24       0.95      0.74      0.83        50\n",
            "          25       0.87      0.80      0.83        50\n",
            "          26       0.97      0.60      0.74        50\n",
            "          27       0.66      0.82      0.73        50\n",
            "\n",
            "    accuracy                           0.82      1400\n",
            "   macro avg       0.84      0.82      0.82      1400\n",
            "weighted avg       0.84      0.82      0.82      1400\n",
            "\n"
          ],
          "name": "stdout"
        }
      ]
    },
    {
      "cell_type": "markdown",
      "metadata": {
        "id": "obHxeVTifSkt",
        "colab_type": "text"
      },
      "source": [
        "##CNN for PDC calculated handchars"
      ]
    },
    {
      "cell_type": "code",
      "metadata": {
        "id": "WCxwdqIIu9il",
        "colab_type": "code",
        "colab": {}
      },
      "source": [
        "trainYpdc = to_categorical(train_labels_pdc) \n",
        "testYpdc = to_categorical(test_labels_pdc) "
      ],
      "execution_count": 0,
      "outputs": []
    },
    {
      "cell_type": "code",
      "metadata": {
        "id": "rEXGqi9Kvblf",
        "colab_type": "code",
        "colab": {}
      },
      "source": [
        "rowspdc = 16\n",
        "colspdc = 16\n",
        "\n",
        "# reshaping data to fit in CNN \n",
        "traindatapdc = traindataar_pdc.reshape(traindataar_pdc.shape[0], rowspdc, colspdc, 1)\n",
        "testdatapdc = testdataar_pdc.reshape(testdataar_pdc.shape[0], rowspdc, colspdc, 1)\n",
        "\n",
        "traindatapdc = traindatapdc.astype('float32')\n",
        "testdatapdc  = testdatapdc.astype('float32')"
      ],
      "execution_count": 0,
      "outputs": []
    },
    {
      "cell_type": "code",
      "metadata": {
        "id": "IJjGJJ060uam",
        "colab_type": "code",
        "colab": {}
      },
      "source": [
        "def baseline_modelpdc():\n",
        "    model = Sequential()\n",
        "    model.add(BatchNormalization(input_shape=(rowspdc, colspdc, 1)))\n",
        "    model.add(Conv2D(50, (3, 3), padding='same', activation='relu'))\n",
        "    model.add(MaxPooling2D(pool_size=(2, 2), strides=(2,2)))\n",
        "    model.add(Dropout(0.25))\n",
        "    \n",
        "    model.add(BatchNormalization())\n",
        "    model.add(Conv2D(100, (3, 3), padding='same', activation='relu'))\n",
        "    model.add(MaxPooling2D(pool_size=(2, 2)))\n",
        "    model.add(Dropout(0.25))\n",
        "\n",
        "    model.add(BatchNormalization())\n",
        "    model.add(Conv2D(150, (3, 3), padding='same', activation='relu'))\n",
        "    model.add(MaxPooling2D(pool_size=(2, 2)))\n",
        "    model.add(Dropout(0.25))\n",
        "\n",
        "    model.add(Flatten())\n",
        "    model.add(Dense(150, activation='relu'))\n",
        "    model.add(Dropout(0.5))\n",
        "    model.add(Dense(28, activation='softmax'))\n",
        "    return model"
      ],
      "execution_count": 0,
      "outputs": []
    },
    {
      "cell_type": "code",
      "metadata": {
        "id": "127kSXGP01gf",
        "colab_type": "code",
        "colab": {}
      },
      "source": [
        "modelpdc = baseline_modelpdc()\n",
        "modelpdc.compile(loss='categorical_crossentropy', optimizer=keras.optimizers.Adadelta(), metrics=['accuracy'])\n",
        "#adadelta = 42.7%, adagrad and adam = 9%, rmsprop and sgd = 17%"
      ],
      "execution_count": 0,
      "outputs": []
    },
    {
      "cell_type": "code",
      "metadata": {
        "id": "DKZLHX4U09pu",
        "colab_type": "code",
        "outputId": "800a5a17-6ad3-47e2-a02e-2b0cf390b5fe",
        "colab": {
          "base_uri": "https://localhost:8080/",
          "height": 714
        }
      },
      "source": [
        "history = modelpdc.fit(traindatapdc, trainYpdc,\n",
        "          batch_size=512,\n",
        "          epochs=20,\n",
        "          verbose=2,\n",
        "          validation_data=(testdatapdc, testYpdc))"
      ],
      "execution_count": 0,
      "outputs": [
        {
          "output_type": "stream",
          "text": [
            "Train on 4200 samples, validate on 1400 samples\n",
            "Epoch 1/20\n",
            " - 0s - loss: 0.1139 - accuracy: 0.9612 - val_loss: 1.1425 - val_accuracy: 0.7714\n",
            "Epoch 2/20\n",
            " - 0s - loss: 0.1155 - accuracy: 0.9636 - val_loss: 1.0801 - val_accuracy: 0.8064\n",
            "Epoch 3/20\n",
            " - 0s - loss: 0.1088 - accuracy: 0.9648 - val_loss: 1.0737 - val_accuracy: 0.7936\n",
            "Epoch 4/20\n",
            " - 0s - loss: 0.1034 - accuracy: 0.9636 - val_loss: 0.9641 - val_accuracy: 0.8143\n",
            "Epoch 5/20\n",
            " - 0s - loss: 0.1116 - accuracy: 0.9636 - val_loss: 0.9321 - val_accuracy: 0.8221\n",
            "Epoch 6/20\n",
            " - 0s - loss: 0.1085 - accuracy: 0.9679 - val_loss: 0.8894 - val_accuracy: 0.8207\n",
            "Epoch 7/20\n",
            " - 0s - loss: 0.0968 - accuracy: 0.9671 - val_loss: 0.9618 - val_accuracy: 0.8064\n",
            "Epoch 8/20\n",
            " - 0s - loss: 0.0942 - accuracy: 0.9657 - val_loss: 1.0165 - val_accuracy: 0.8136\n",
            "Epoch 9/20\n",
            " - 0s - loss: 0.1053 - accuracy: 0.9617 - val_loss: 1.0968 - val_accuracy: 0.7864\n",
            "Epoch 10/20\n",
            " - 0s - loss: 0.0896 - accuracy: 0.9702 - val_loss: 0.9415 - val_accuracy: 0.8229\n",
            "Epoch 11/20\n",
            " - 0s - loss: 0.0919 - accuracy: 0.9705 - val_loss: 0.9511 - val_accuracy: 0.8164\n",
            "Epoch 12/20\n",
            " - 0s - loss: 0.0973 - accuracy: 0.9652 - val_loss: 0.9110 - val_accuracy: 0.8236\n",
            "Epoch 13/20\n",
            " - 0s - loss: 0.0864 - accuracy: 0.9702 - val_loss: 0.9758 - val_accuracy: 0.8286\n",
            "Epoch 14/20\n",
            " - 0s - loss: 0.0946 - accuracy: 0.9700 - val_loss: 1.0769 - val_accuracy: 0.8021\n",
            "Epoch 15/20\n",
            " - 0s - loss: 0.0855 - accuracy: 0.9731 - val_loss: 1.0722 - val_accuracy: 0.8100\n",
            "Epoch 16/20\n",
            " - 0s - loss: 0.0863 - accuracy: 0.9748 - val_loss: 1.0457 - val_accuracy: 0.8157\n",
            "Epoch 17/20\n",
            " - 0s - loss: 0.0741 - accuracy: 0.9795 - val_loss: 1.0634 - val_accuracy: 0.8171\n",
            "Epoch 18/20\n",
            " - 0s - loss: 0.0797 - accuracy: 0.9736 - val_loss: 1.0842 - val_accuracy: 0.8100\n",
            "Epoch 19/20\n",
            " - 0s - loss: 0.0839 - accuracy: 0.9724 - val_loss: 1.0896 - val_accuracy: 0.8114\n",
            "Epoch 20/20\n",
            " - 0s - loss: 0.0806 - accuracy: 0.9721 - val_loss: 0.9581 - val_accuracy: 0.8236\n"
          ],
          "name": "stdout"
        }
      ]
    },
    {
      "cell_type": "markdown",
      "metadata": {
        "id": "cxAQrnFvYrsT",
        "colab_type": "text"
      },
      "source": [
        "#Extras"
      ]
    },
    {
      "cell_type": "markdown",
      "metadata": {
        "id": "KLMPw7LrFDKg",
        "colab_type": "text"
      },
      "source": [
        "##For Handchars"
      ]
    },
    {
      "cell_type": "code",
      "metadata": {
        "colab_type": "code",
        "id": "vfRDFAlQPTwA",
        "colab": {}
      },
      "source": [
        "rows = 72\n",
        "cols = 71\n",
        "traindata_extra = traindata_150.reshape(traindata_150.shape[0], rows, cols)\n",
        "testdata_extra = testdata_50.reshape(testdata_50.shape[0], rows, cols)"
      ],
      "execution_count": 0,
      "outputs": []
    },
    {
      "cell_type": "code",
      "metadata": {
        "colab_type": "code",
        "id": "yhYCwU4UPTwL",
        "colab": {}
      },
      "source": [
        "rgb_train_extra = np.repeat(traindata_extra[..., np.newaxis], 3, -1)\n",
        "rgb_test_extra = np.repeat(testdata_extra[..., np.newaxis], 3, -1)"
      ],
      "execution_count": 0,
      "outputs": []
    },
    {
      "cell_type": "code",
      "metadata": {
        "colab_type": "code",
        "outputId": "80869db2-d86b-488b-fa74-d616acde7b4f",
        "id": "7DmC0Y9RPTwW",
        "colab": {
          "base_uri": "https://localhost:8080/",
          "height": 119
        }
      },
      "source": [
        "from keras.applications.resnet50 import ResNet50\n",
        "from keras.models import Model\n",
        "import keras\n",
        "restnet = ResNet50(include_top=False, weights='imagenet', input_shape=(rows,cols,3))\n",
        "output = restnet.layers[-1].output\n",
        "output = keras.layers.Flatten()(output)\n",
        "restnet = Model(restnet.input, output=output)\n",
        "for layer in restnet.layers:\n",
        "    layer.trainable = False"
      ],
      "execution_count": 0,
      "outputs": [
        {
          "output_type": "stream",
          "text": [
            "/usr/local/lib/python3.6/dist-packages/keras_applications/resnet50.py:265: UserWarning: The output shape of `ResNet50(include_top=False)` has been changed since Keras 2.2.0.\n",
            "  warnings.warn('The output shape of `ResNet50(include_top=False)` '\n"
          ],
          "name": "stderr"
        },
        {
          "output_type": "stream",
          "text": [
            "Downloading data from https://github.com/fchollet/deep-learning-models/releases/download/v0.2/resnet50_weights_tf_dim_ordering_tf_kernels_notop.h5\n",
            "94658560/94653016 [==============================] - 3s 0us/step\n"
          ],
          "name": "stdout"
        },
        {
          "output_type": "stream",
          "text": [
            "/usr/local/lib/python3.6/dist-packages/ipykernel_launcher.py:7: UserWarning: Update your `Model` call to the Keras 2 API: `Model(Tensor(\"in..., outputs=Tensor(\"fl...)`\n",
            "  import sys\n"
          ],
          "name": "stderr"
        }
      ]
    },
    {
      "cell_type": "code",
      "metadata": {
        "colab_type": "code",
        "id": "41ETWAb7PTwa",
        "colab": {}
      },
      "source": [
        "input_shape=(rows,cols,3)\n",
        "from keras.layers import Conv2D, MaxPooling2D, Flatten, Dense, Dropout, InputLayer\n",
        "from keras.models import Sequential\n",
        "from keras import optimizers\n",
        "model_extra = Sequential()\n",
        "model_extra.add(restnet)\n",
        "model_extra.add(Dense(512, activation='relu', input_dim=input_shape))\n",
        "model_extra.add(Dropout(0.3))\n",
        "model_extra.add(Dense(512, activation='relu'))\n",
        "model_extra.add(Dropout(0.3))\n",
        "model_extra.add(Dense(28, activation='sigmoid'))\n",
        "model_extra.compile(loss='binary_crossentropy',\n",
        "              optimizer=optimizers.rmsprop(learning_rate=2e-5),\n",
        "              metrics=['accuracy'])"
      ],
      "execution_count": 0,
      "outputs": []
    },
    {
      "cell_type": "code",
      "metadata": {
        "colab_type": "code",
        "outputId": "740539c3-d85b-42b7-b30f-ac8b9abe4d9b",
        "id": "6cPcLiBcPTwe",
        "colab": {
          "base_uri": "https://localhost:8080/",
          "height": 697
        }
      },
      "source": [
        "history = model_extra.fit(rgb_train_extra, trainY,\n",
        "                              steps_per_epoch=1, \n",
        "                              epochs=20,\n",
        "                              verbose=2)"
      ],
      "execution_count": 0,
      "outputs": [
        {
          "output_type": "stream",
          "text": [
            "Epoch 1/20\n",
            " - 21s - loss: 0.9700 - accuracy: 0.5094\n",
            "Epoch 2/20\n",
            " - 7s - loss: 0.7339 - accuracy: 0.6159\n",
            "Epoch 3/20\n",
            " - 7s - loss: 0.6282 - accuracy: 0.6785\n",
            "Epoch 4/20\n",
            " - 7s - loss: 0.5605 - accuracy: 0.7219\n",
            "Epoch 5/20\n",
            " - 7s - loss: 0.5092 - accuracy: 0.7582\n",
            "Epoch 6/20\n",
            " - 7s - loss: 0.4717 - accuracy: 0.7842\n",
            "Epoch 7/20\n",
            " - 7s - loss: 0.4402 - accuracy: 0.8057\n",
            "Epoch 8/20\n",
            " - 7s - loss: 0.4129 - accuracy: 0.8230\n",
            "Epoch 9/20\n",
            " - 7s - loss: 0.3916 - accuracy: 0.8385\n",
            "Epoch 10/20\n",
            " - 7s - loss: 0.3728 - accuracy: 0.8528\n",
            "Epoch 11/20\n",
            " - 7s - loss: 0.3602 - accuracy: 0.8600\n",
            "Epoch 12/20\n",
            " - 7s - loss: 0.3451 - accuracy: 0.8702\n",
            "Epoch 13/20\n",
            " - 7s - loss: 0.3331 - accuracy: 0.8780\n",
            "Epoch 14/20\n",
            " - 7s - loss: 0.3234 - accuracy: 0.8862\n",
            "Epoch 15/20\n",
            " - 7s - loss: 0.3138 - accuracy: 0.8920\n",
            "Epoch 16/20\n",
            " - 7s - loss: 0.3053 - accuracy: 0.8974\n",
            "Epoch 17/20\n",
            " - 7s - loss: 0.2979 - accuracy: 0.9022\n",
            "Epoch 18/20\n",
            " - 7s - loss: 0.2948 - accuracy: 0.9056\n",
            "Epoch 19/20\n",
            " - 7s - loss: 0.2868 - accuracy: 0.9098\n",
            "Epoch 20/20\n",
            " - 7s - loss: 0.2827 - accuracy: 0.9124\n"
          ],
          "name": "stdout"
        }
      ]
    },
    {
      "cell_type": "markdown",
      "metadata": {
        "id": "v25rXFlVC4PH",
        "colab_type": "text"
      },
      "source": [
        "##For Handchars 32"
      ]
    },
    {
      "cell_type": "code",
      "metadata": {
        "id": "8ERML2FxSFZ1",
        "colab_type": "code",
        "colab": {}
      },
      "source": [
        "traindata32_extra = traindata32.reshape(traindata32.shape[0], rows32, cols32)\n",
        "testdata32_extra = testdata32.reshape(testdata32.shape[0], rows32, cols32)"
      ],
      "execution_count": 0,
      "outputs": []
    },
    {
      "cell_type": "code",
      "metadata": {
        "id": "x6IBOBGqQ5GC",
        "colab_type": "code",
        "colab": {}
      },
      "source": [
        "rgb_train32_extra = np.repeat(traindata32_extra[..., np.newaxis], 3, -1)\n",
        "rgb_test32_extra = np.repeat(testdata32_extra[..., np.newaxis], 3, -1"
      ],
      "execution_count": 0,
      "outputs": []
    },
    {
      "cell_type": "code",
      "metadata": {
        "id": "HUQEb9jJQMnP",
        "colab_type": "code",
        "outputId": "30f4c419-8ce4-40ae-8c6b-7e53896f3e6c",
        "colab": {
          "base_uri": "https://localhost:8080/",
          "height": 85
        }
      },
      "source": [
        "from keras.applications.resnet50 import ResNet50\n",
        "from keras.models import Model\n",
        "import keras\n",
        "restnet = ResNet50(include_top=False, weights='imagenet', input_shape=(32,32,3))\n",
        "output = restnet.layers[-1].output\n",
        "output = keras.layers.Flatten()(output)\n",
        "restnet = Model(restnet.input, output=output)\n",
        "for layer in restnet.layers:\n",
        "    layer.trainable = False"
      ],
      "execution_count": 0,
      "outputs": [
        {
          "output_type": "stream",
          "text": [
            "/usr/local/lib/python3.6/dist-packages/keras_applications/resnet50.py:265: UserWarning: The output shape of `ResNet50(include_top=False)` has been changed since Keras 2.2.0.\n",
            "  warnings.warn('The output shape of `ResNet50(include_top=False)` '\n",
            "/usr/local/lib/python3.6/dist-packages/ipykernel_launcher.py:7: UserWarning: Update your `Model` call to the Keras 2 API: `Model(Tensor(\"in..., outputs=Tensor(\"fl...)`\n",
            "  import sys\n"
          ],
          "name": "stderr"
        }
      ]
    },
    {
      "cell_type": "code",
      "metadata": {
        "id": "61YhFPHPQOP5",
        "colab_type": "code",
        "colab": {}
      },
      "source": [
        "input_shape=(32,32,3)\n",
        "from keras.layers import Conv2D, MaxPooling2D, Flatten, Dense, Dropout, InputLayer\n",
        "from keras.models import Sequential\n",
        "from keras import optimizers\n",
        "model32_extra = Sequential()\n",
        "model32_extra.add(restnet)\n",
        "model32_extra.add(Dense(512, activation='relu', input_dim=input_shape))\n",
        "model32_extra.add(Dropout(0.3))\n",
        "model32_extra.add(Dense(512, activation='relu'))\n",
        "model32_extra.add(Dropout(0.3))\n",
        "model32_extra.add(Dense(28, activation='sigmoid'))\n",
        "model32_extra.compile(loss='binary_crossentropy',\n",
        "              optimizer=optimizers.rmsprop(learning_rate=2e-5),\n",
        "              metrics=['accuracy'])"
      ],
      "execution_count": 0,
      "outputs": []
    },
    {
      "cell_type": "code",
      "metadata": {
        "id": "JVxDPWHsQS08",
        "colab_type": "code",
        "outputId": "11c3c2e1-1ba8-4a6f-827b-4da2b0a18f1f",
        "colab": {
          "base_uri": "https://localhost:8080/",
          "height": 697
        }
      },
      "source": [
        "history = model32_extra.fit(rgb_train32_extra, trainY32,\n",
        "                              steps_per_epoch=1, \n",
        "                              epochs=20,\n",
        "                              verbose=2)"
      ],
      "execution_count": 0,
      "outputs": [
        {
          "output_type": "stream",
          "text": [
            "Epoch 1/20\n",
            " - 2s - loss: 1.0225 - accuracy: 0.4749\n",
            "Epoch 2/20\n",
            " - 1s - loss: 0.9591 - accuracy: 0.5005\n",
            "Epoch 3/20\n",
            " - 1s - loss: 0.9144 - accuracy: 0.5224\n",
            "Epoch 4/20\n",
            " - 1s - loss: 0.8820 - accuracy: 0.5363\n",
            "Epoch 5/20\n",
            " - 1s - loss: 0.8554 - accuracy: 0.5482\n",
            "Epoch 6/20\n",
            " - 1s - loss: 0.8344 - accuracy: 0.5603\n",
            "Epoch 7/20\n",
            " - 1s - loss: 0.8086 - accuracy: 0.5716\n",
            "Epoch 8/20\n",
            " - 1s - loss: 0.7871 - accuracy: 0.5841\n",
            "Epoch 9/20\n",
            " - 1s - loss: 0.7707 - accuracy: 0.5957\n",
            "Epoch 10/20\n",
            " - 1s - loss: 0.7565 - accuracy: 0.6015\n",
            "Epoch 11/20\n",
            " - 1s - loss: 0.7390 - accuracy: 0.6114\n",
            "Epoch 12/20\n",
            " - 1s - loss: 0.7242 - accuracy: 0.6198\n",
            "Epoch 13/20\n",
            " - 1s - loss: 0.7097 - accuracy: 0.6298\n",
            "Epoch 14/20\n",
            " - 1s - loss: 0.6964 - accuracy: 0.6376\n",
            "Epoch 15/20\n",
            " - 1s - loss: 0.6775 - accuracy: 0.6497\n",
            "Epoch 16/20\n",
            " - 1s - loss: 0.6652 - accuracy: 0.6570\n",
            "Epoch 17/20\n",
            " - 1s - loss: 0.6530 - accuracy: 0.6633\n",
            "Epoch 18/20\n",
            " - 1s - loss: 0.6432 - accuracy: 0.6716\n",
            "Epoch 19/20\n",
            " - 1s - loss: 0.6285 - accuracy: 0.6792\n",
            "Epoch 20/20\n",
            " - 1s - loss: 0.6183 - accuracy: 0.6866\n"
          ],
          "name": "stdout"
        }
      ]
    },
    {
      "cell_type": "markdown",
      "metadata": {
        "id": "yNSDcrPrWe3I",
        "colab_type": "text"
      },
      "source": [
        "##For PDC"
      ]
    },
    {
      "cell_type": "code",
      "metadata": {
        "colab_type": "code",
        "id": "vXasxP9tWk_c",
        "colab": {}
      },
      "source": [
        "rowspdc = 16\n",
        "colspdc = 16\n",
        "traindata_pdc_extra = traindataar_pdc.reshape(traindataar_pdc.shape[0], rowspdc, colspdc)\n",
        "testdata_pdc_extra = testdataar_pdc.reshape(testdataar_pdc.shape[0], rowspdc, colspdc)"
      ],
      "execution_count": 0,
      "outputs": []
    },
    {
      "cell_type": "code",
      "metadata": {
        "colab_type": "code",
        "id": "3dEmSvoTWk_h",
        "colab": {}
      },
      "source": [
        "rgb_train_pdc_extra = np.repeat(traindata_pdc_extra[..., np.newaxis], 3, -1)\n",
        "rgb_test_pdc_extra = np.repeat(testdata_pdc_extra[..., np.newaxis], 3, -1)\n"
      ],
      "execution_count": 0,
      "outputs": []
    },
    {
      "cell_type": "code",
      "metadata": {
        "colab_type": "code",
        "outputId": "ba066f41-6adc-4f02-846b-1f07105fe8a2",
        "id": "58GnwVNwWk_r",
        "colab": {
          "base_uri": "https://localhost:8080/",
          "height": 85
        }
      },
      "source": [
        "from keras.applications.resnet50 import ResNet50\n",
        "from keras.models import Model\n",
        "import keras\n",
        "restnet = ResNet50(include_top=False, weights='imagenet', input_shape=(32,32,3))\n",
        "output = restnet.layers[-1].output\n",
        "output = keras.layers.Flatten()(output)\n",
        "restnet = Model(restnet.input, output=output)\n",
        "for layer in restnet.layers:\n",
        "    layer.trainable = False"
      ],
      "execution_count": 0,
      "outputs": [
        {
          "output_type": "stream",
          "text": [
            "/usr/local/lib/python3.6/dist-packages/keras_applications/resnet50.py:265: UserWarning: The output shape of `ResNet50(include_top=False)` has been changed since Keras 2.2.0.\n",
            "  warnings.warn('The output shape of `ResNet50(include_top=False)` '\n",
            "/usr/local/lib/python3.6/dist-packages/ipykernel_launcher.py:7: UserWarning: Update your `Model` call to the Keras 2 API: `Model(Tensor(\"in..., outputs=Tensor(\"fl...)`\n",
            "  import sys\n"
          ],
          "name": "stderr"
        }
      ]
    },
    {
      "cell_type": "code",
      "metadata": {
        "colab_type": "code",
        "id": "1FysmkHdWk_v",
        "colab": {}
      },
      "source": [
        "input_shape=(16,16,3)\n",
        "from keras.layers import Conv2D, MaxPooling2D, Flatten, Dense, Dropout, InputLayer\n",
        "from keras.models import Sequential\n",
        "from keras import optimizers\n",
        "model_pdc_extra = Sequential()\n",
        "model_pdc_extra.add(vg)\n",
        "model_pdc_extra.add(Dense(512, activation='relu', input_dim=input_shape))\n",
        "model_pdc_extra.add(Dropout(0.3))\n",
        "model_pdc_extra.add(Dense(512, activation='relu'))\n",
        "model_pdc_extra.add(Dropout(0.3))\n",
        "model_pdc_extra.add(Dense(28, activation='sigmoid'))\n",
        "model_pdc_extra.compile(loss='binary_crossentropy',\n",
        "              optimizer=optimizers.rmsprop(learning_rate=2e-5),\n",
        "              metrics=['accuracy'])"
      ],
      "execution_count": 0,
      "outputs": []
    },
    {
      "cell_type": "code",
      "metadata": {
        "colab_type": "code",
        "outputId": "740539c3-d85b-42b7-b30f-ac8b9abe4d9b",
        "id": "ZdvCe-xIlqC7",
        "colab": {
          "base_uri": "https://localhost:8080/",
          "height": 697
        }
      },
      "source": [
        "history = model_pdc_extra.fit(rgb_train_pdc_extra, trainYpdc,\n",
        "                              steps_per_epoch=1, \n",
        "                              epochs=20,\n",
        "                              verbose=2)"
      ],
      "execution_count": 0,
      "outputs": [
        {
          "output_type": "stream",
          "text": [
            "Epoch 1/20\n",
            " - 21s - loss: 0.9700 - accuracy: 0.5094\n",
            "Epoch 2/20\n",
            " - 7s - loss: 0.7339 - accuracy: 0.6159\n",
            "Epoch 3/20\n",
            " - 7s - loss: 0.6282 - accuracy: 0.6785\n",
            "Epoch 4/20\n",
            " - 7s - loss: 0.5605 - accuracy: 0.7219\n",
            "Epoch 5/20\n",
            " - 7s - loss: 0.5092 - accuracy: 0.7582\n",
            "Epoch 6/20\n",
            " - 7s - loss: 0.4717 - accuracy: 0.7842\n",
            "Epoch 7/20\n",
            " - 7s - loss: 0.4402 - accuracy: 0.8057\n",
            "Epoch 8/20\n",
            " - 7s - loss: 0.4129 - accuracy: 0.8230\n",
            "Epoch 9/20\n",
            " - 7s - loss: 0.3916 - accuracy: 0.8385\n",
            "Epoch 10/20\n",
            " - 7s - loss: 0.3728 - accuracy: 0.8528\n",
            "Epoch 11/20\n",
            " - 7s - loss: 0.3602 - accuracy: 0.8600\n",
            "Epoch 12/20\n",
            " - 7s - loss: 0.3451 - accuracy: 0.8702\n",
            "Epoch 13/20\n",
            " - 7s - loss: 0.3331 - accuracy: 0.8780\n",
            "Epoch 14/20\n",
            " - 7s - loss: 0.3234 - accuracy: 0.8862\n",
            "Epoch 15/20\n",
            " - 7s - loss: 0.3138 - accuracy: 0.8920\n",
            "Epoch 16/20\n",
            " - 7s - loss: 0.3053 - accuracy: 0.8974\n",
            "Epoch 17/20\n",
            " - 7s - loss: 0.2979 - accuracy: 0.9022\n",
            "Epoch 18/20\n",
            " - 7s - loss: 0.2948 - accuracy: 0.9056\n",
            "Epoch 19/20\n",
            " - 7s - loss: 0.2868 - accuracy: 0.9098\n",
            "Epoch 20/20\n",
            " - 7s - loss: 0.2827 - accuracy: 0.9124\n"
          ],
          "name": "stdout"
        }
      ]
    }
  ]
}