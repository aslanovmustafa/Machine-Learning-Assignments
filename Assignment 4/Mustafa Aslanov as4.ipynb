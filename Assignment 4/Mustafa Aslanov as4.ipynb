{
 "cells": [
  {
   "cell_type": "code",
   "execution_count": 2,
   "metadata": {
    "scrolled": true
   },
   "outputs": [],
   "source": [
    "import pandas as pd\n",
    "import matplotlib.pyplot as plt \n",
    "import numpy as np\n",
    "import re\n",
    "from sklearn.metrics import classification_report\n",
    "from sklearn.preprocessing import StandardScaler\n",
    "\n",
    "delimiters = '; ', '# '\n",
    "rePattern = '|'.join(map(re.escape, delimiters))\n",
    "\n",
    "train = pd.read_csv(\"train.txt\", sep=rePattern, header=None, engine='python')\n",
    "test = pd.read_csv(\"test.txt\", sep=rePattern, header=None, engine='python')\n",
    "cross_validation = pd.read_csv(\"Cross_Validation.txt\", sep=rePattern, header=None, engine='python')\n",
    "\n",
    "train_labels = train.iloc[:, 0]\n",
    "train_features = train.iloc[:, 1:]\n",
    "\n",
    "test_labels = test.iloc[:, 0]\n",
    "test_features = test.iloc[:, 1:]\n",
    "\n",
    "cv_labels = cross_validation.iloc[:, 0]\n",
    "cv_features = cross_validation.iloc[:, 1:]"
   ]
  },
  {
   "cell_type": "code",
   "execution_count": 4,
   "metadata": {},
   "outputs": [
    {
     "data": {
      "text/plain": [
       "MLPClassifier(activation='relu', alpha=0.0001, batch_size='auto', beta_1=0.9,\n",
       "              beta_2=0.999, early_stopping=False, epsilon=1e-08,\n",
       "              hidden_layer_sizes=(100, 100, 100), learning_rate='constant',\n",
       "              learning_rate_init=0.001, max_fun=15000, max_iter=500,\n",
       "              momentum=0.9, n_iter_no_change=10, nesterovs_momentum=True,\n",
       "              power_t=0.5, random_state=1, shuffle=True, solver='adam',\n",
       "              tol=0.0001, validation_fraction=0.1, verbose=False,\n",
       "              warm_start=False)"
      ]
     },
     "execution_count": 4,
     "metadata": {},
     "output_type": "execute_result"
    }
   ],
   "source": [
    "from sklearn.neural_network import MLPClassifier\n",
    "\n",
    "NN = MLPClassifier(max_iter=500, random_state=1, hidden_layer_sizes=(100,100,100))\n",
    "\n",
    "NN.fit(train_features, train_labels)"
   ]
  },
  {
   "cell_type": "code",
   "execution_count": 5,
   "metadata": {
    "scrolled": false
   },
   "outputs": [
    {
     "name": "stdout",
     "output_type": "stream",
     "text": [
      "              precision    recall  f1-score   support\n",
      "\n",
      "           0       1.00      1.00      1.00        50\n",
      "           1       0.89      1.00      0.94        33\n",
      "           2       0.97      0.95      0.96        37\n",
      "           3       1.00      0.95      0.98        43\n",
      "           4       0.98      1.00      0.99        41\n",
      "           5       0.98      0.94      0.96        53\n",
      "           6       1.00      1.00      1.00        50\n",
      "           7       1.00      1.00      1.00        54\n",
      "           8       1.00      0.98      0.99        41\n",
      "           9       0.98      0.98      0.98        44\n",
      "          10       1.00      1.00      1.00        38\n",
      "          11       0.98      1.00      0.99        40\n",
      "          12       1.00      1.00      1.00        44\n",
      "          13       0.97      0.97      0.97        37\n",
      "          14       0.95      0.95      0.95        39\n",
      "          15       1.00      1.00      1.00        38\n",
      "          16       0.98      1.00      0.99        40\n",
      "          17       1.00      1.00      1.00        36\n",
      "          18       1.00      1.00      1.00        45\n",
      "          19       0.98      0.98      0.98        48\n",
      "          20       0.97      0.97      0.97        39\n",
      "          21       0.98      0.98      0.98        43\n",
      "          22       1.00      1.00      1.00        37\n",
      "          23       1.00      0.97      0.99        40\n",
      "\n",
      "    accuracy                           0.98      1010\n",
      "   macro avg       0.98      0.98      0.98      1010\n",
      "weighted avg       0.98      0.98      0.98      1010\n",
      "\n"
     ]
    }
   ],
   "source": [
    "pred_NN_cv = NN.predict(cv_features)\n",
    "print(classification_report(cv_labels, pred_NN_cv))"
   ]
  },
  {
   "cell_type": "code",
   "execution_count": 6,
   "metadata": {},
   "outputs": [
    {
     "name": "stdout",
     "output_type": "stream",
     "text": [
      "              precision    recall  f1-score   support\n",
      "\n",
      "           0       0.97      0.97      0.97        35\n",
      "           1       0.94      1.00      0.97        51\n",
      "           2       0.98      0.94      0.96        49\n",
      "           3       0.97      0.97      0.97        38\n",
      "           4       0.97      0.94      0.96        35\n",
      "           5       0.96      0.92      0.94        53\n",
      "           6       0.98      0.98      0.98        49\n",
      "           7       0.96      1.00      0.98        51\n",
      "           8       1.00      0.97      0.99        40\n",
      "           9       0.97      1.00      0.98        31\n",
      "          10       1.00      0.98      0.99        44\n",
      "          11       0.92      0.97      0.95        37\n",
      "          12       1.00      1.00      1.00        47\n",
      "          13       0.97      0.90      0.93        39\n",
      "          14       0.97      1.00      0.98        28\n",
      "          15       1.00      1.00      1.00        49\n",
      "          16       0.98      1.00      0.99        43\n",
      "          17       1.00      0.94      0.97        53\n",
      "          18       0.93      0.97      0.95        38\n",
      "          19       0.92      0.92      0.92        37\n",
      "          20       0.88      0.93      0.90        40\n",
      "          21       0.92      0.95      0.94        38\n",
      "          22       1.00      1.00      1.00        38\n",
      "          23       0.98      0.93      0.96        46\n",
      "\n",
      "    accuracy                           0.97      1009\n",
      "   macro avg       0.97      0.97      0.97      1009\n",
      "weighted avg       0.97      0.97      0.97      1009\n",
      "\n"
     ]
    }
   ],
   "source": [
    "pred_NN_test=NN.predict(test_features)\n",
    "print(classification_report(test_labels, pred_NN_test))"
   ]
  },
  {
   "cell_type": "code",
   "execution_count": 98,
   "metadata": {},
   "outputs": [],
   "source": [
    "# here ends neural networks "
   ]
  },
  {
   "cell_type": "code",
   "execution_count": 7,
   "metadata": {
    "scrolled": true
   },
   "outputs": [
    {
     "data": {
      "text/plain": [
       "SVC(C=1.0, break_ties=False, cache_size=200, class_weight=None, coef0=0.0,\n",
       "    decision_function_shape='ovr', degree=3, gamma='auto', kernel='linear',\n",
       "    max_iter=-1, probability=False, random_state=1, shrinking=True, tol=0.001,\n",
       "    verbose=False)"
      ]
     },
     "execution_count": 7,
     "metadata": {},
     "output_type": "execute_result"
    }
   ],
   "source": [
    "from sklearn.svm import SVC\n",
    "\n",
    "svc = SVC(kernel = 'linear', gamma='auto', random_state = 1)\n",
    "svc.fit(train_features, train_labels)"
   ]
  },
  {
   "cell_type": "code",
   "execution_count": 8,
   "metadata": {
    "scrolled": false
   },
   "outputs": [
    {
     "name": "stdout",
     "output_type": "stream",
     "text": [
      "              precision    recall  f1-score   support\n",
      "\n",
      "           0       1.00      1.00      1.00        50\n",
      "           1       0.86      0.97      0.91        33\n",
      "           2       0.90      0.97      0.94        37\n",
      "           3       0.98      0.95      0.96        43\n",
      "           4       0.95      1.00      0.98        41\n",
      "           5       0.96      0.89      0.92        53\n",
      "           6       0.98      1.00      0.99        50\n",
      "           7       1.00      1.00      1.00        54\n",
      "           8       1.00      1.00      1.00        41\n",
      "           9       0.95      0.95      0.95        44\n",
      "          10       1.00      1.00      1.00        38\n",
      "          11       0.97      0.97      0.97        40\n",
      "          12       0.98      1.00      0.99        44\n",
      "          13       0.97      1.00      0.99        37\n",
      "          14       0.97      0.97      0.97        39\n",
      "          15       1.00      1.00      1.00        38\n",
      "          16       0.98      1.00      0.99        40\n",
      "          17       1.00      1.00      1.00        36\n",
      "          18       0.98      0.96      0.97        45\n",
      "          19       0.83      0.94      0.88        48\n",
      "          20       0.97      0.77      0.86        39\n",
      "          21       1.00      0.95      0.98        43\n",
      "          22       1.00      0.97      0.99        37\n",
      "          23       1.00      0.95      0.97        40\n",
      "\n",
      "    accuracy                           0.97      1010\n",
      "   macro avg       0.97      0.97      0.97      1010\n",
      "weighted avg       0.97      0.97      0.97      1010\n",
      "\n"
     ]
    }
   ],
   "source": [
    "pred_svc_cv = svc.predict(cv_features)\n",
    "print(classification_report(cv_labels, pred_svc_cv))"
   ]
  },
  {
   "cell_type": "code",
   "execution_count": 9,
   "metadata": {},
   "outputs": [
    {
     "name": "stdout",
     "output_type": "stream",
     "text": [
      "              precision    recall  f1-score   support\n",
      "\n",
      "           0       1.00      0.97      0.99        35\n",
      "           1       0.89      0.98      0.93        51\n",
      "           2       0.94      0.96      0.95        49\n",
      "           3       0.93      1.00      0.96        38\n",
      "           4       0.97      0.97      0.97        35\n",
      "           5       0.94      0.96      0.95        53\n",
      "           6       0.96      1.00      0.98        49\n",
      "           7       0.98      1.00      0.99        51\n",
      "           8       0.97      0.97      0.97        40\n",
      "           9       0.94      0.94      0.94        31\n",
      "          10       1.00      0.98      0.99        44\n",
      "          11       0.95      0.95      0.95        37\n",
      "          12       0.98      1.00      0.99        47\n",
      "          13       0.97      0.85      0.90        39\n",
      "          14       0.93      1.00      0.97        28\n",
      "          15       1.00      1.00      1.00        49\n",
      "          16       1.00      0.98      0.99        43\n",
      "          17       1.00      0.89      0.94        53\n",
      "          18       0.92      0.95      0.94        38\n",
      "          19       0.85      0.89      0.87        37\n",
      "          20       1.00      0.90      0.95        40\n",
      "          21       0.95      0.95      0.95        38\n",
      "          22       1.00      1.00      1.00        38\n",
      "          23       0.98      0.96      0.97        46\n",
      "\n",
      "    accuracy                           0.96      1009\n",
      "   macro avg       0.96      0.96      0.96      1009\n",
      "weighted avg       0.96      0.96      0.96      1009\n",
      "\n"
     ]
    }
   ],
   "source": [
    "pred_svc_test = svc.predict(test_features)\n",
    "print(classification_report(test_labels, pred_svc_test))"
   ]
  },
  {
   "cell_type": "code",
   "execution_count": 70,
   "metadata": {},
   "outputs": [],
   "source": [
    "# here ends Support Vector Machines"
   ]
  },
  {
   "cell_type": "code",
   "execution_count": 10,
   "metadata": {},
   "outputs": [
    {
     "data": {
      "text/plain": [
       "DecisionTreeClassifier(ccp_alpha=0.0, class_weight=None, criterion='entropy',\n",
       "                       max_depth=None, max_features=None, max_leaf_nodes=None,\n",
       "                       min_impurity_decrease=0.0, min_impurity_split=None,\n",
       "                       min_samples_leaf=1, min_samples_split=2,\n",
       "                       min_weight_fraction_leaf=0.0, presort='deprecated',\n",
       "                       random_state=None, splitter='best')"
      ]
     },
     "execution_count": 10,
     "metadata": {},
     "output_type": "execute_result"
    }
   ],
   "source": [
    "from sklearn import tree\n",
    "\n",
    "tree = tree.DecisionTreeClassifier(criterion='entropy')\n",
    "tree.fit(train_features, train_labels)"
   ]
  },
  {
   "cell_type": "code",
   "execution_count": 11,
   "metadata": {},
   "outputs": [
    {
     "name": "stdout",
     "output_type": "stream",
     "text": [
      "              precision    recall  f1-score   support\n",
      "\n",
      "           0       0.85      0.90      0.87        50\n",
      "           1       0.69      0.82      0.75        33\n",
      "           2       0.74      0.92      0.82        37\n",
      "           3       0.86      0.70      0.77        43\n",
      "           4       0.81      0.83      0.82        41\n",
      "           5       0.77      0.68      0.72        53\n",
      "           6       0.98      1.00      0.99        50\n",
      "           7       0.96      0.91      0.93        54\n",
      "           8       0.86      0.88      0.87        41\n",
      "           9       0.72      0.66      0.69        44\n",
      "          10       0.76      0.84      0.80        38\n",
      "          11       0.82      0.80      0.81        40\n",
      "          12       0.84      0.84      0.84        44\n",
      "          13       0.73      0.73      0.73        37\n",
      "          14       0.70      0.82      0.75        39\n",
      "          15       0.89      0.87      0.88        38\n",
      "          16       0.79      0.78      0.78        40\n",
      "          17       0.63      0.75      0.68        36\n",
      "          18       0.78      0.71      0.74        45\n",
      "          19       0.60      0.50      0.55        48\n",
      "          20       0.44      0.44      0.44        39\n",
      "          21       0.68      0.60      0.64        43\n",
      "          22       0.89      0.92      0.91        37\n",
      "          23       0.78      0.80      0.79        40\n",
      "\n",
      "    accuracy                           0.78      1010\n",
      "   macro avg       0.77      0.78      0.77      1010\n",
      "weighted avg       0.78      0.78      0.78      1010\n",
      "\n"
     ]
    }
   ],
   "source": [
    "pred_tree_cv = tree.predict(cv_features)\n",
    "print(classification_report(cv_labels, pred_tree_cv))"
   ]
  },
  {
   "cell_type": "code",
   "execution_count": 12,
   "metadata": {},
   "outputs": [
    {
     "name": "stdout",
     "output_type": "stream",
     "text": [
      "              precision    recall  f1-score   support\n",
      "\n",
      "           0       0.91      0.86      0.88        35\n",
      "           1       0.73      0.78      0.75        51\n",
      "           2       0.83      0.71      0.77        49\n",
      "           3       0.81      0.89      0.85        38\n",
      "           4       0.72      0.74      0.73        35\n",
      "           5       0.80      0.83      0.81        53\n",
      "           6       0.92      0.92      0.92        49\n",
      "           7       0.91      0.94      0.92        51\n",
      "           8       0.84      0.90      0.87        40\n",
      "           9       0.62      0.81      0.70        31\n",
      "          10       0.79      0.70      0.75        44\n",
      "          11       0.63      0.78      0.70        37\n",
      "          12       0.98      0.89      0.93        47\n",
      "          13       0.69      0.74      0.72        39\n",
      "          14       0.62      0.64      0.63        28\n",
      "          15       0.94      0.90      0.92        49\n",
      "          16       0.77      0.70      0.73        43\n",
      "          17       0.74      0.64      0.69        53\n",
      "          18       0.76      0.74      0.75        38\n",
      "          19       0.61      0.62      0.61        37\n",
      "          20       0.83      0.72      0.77        40\n",
      "          21       0.72      0.76      0.74        38\n",
      "          22       0.97      0.95      0.96        38\n",
      "          23       0.81      0.76      0.79        46\n",
      "\n",
      "    accuracy                           0.79      1009\n",
      "   macro avg       0.79      0.79      0.79      1009\n",
      "weighted avg       0.80      0.79      0.79      1009\n",
      "\n"
     ]
    }
   ],
   "source": [
    "pred_tree_test = tree.predict(test_features)\n",
    "print(classification_report(test_labels, pred_tree_test))"
   ]
  },
  {
   "cell_type": "code",
   "execution_count": null,
   "metadata": {},
   "outputs": [],
   "source": [
    "# here ends Decision Tree"
   ]
  },
  {
   "cell_type": "code",
   "execution_count": 3,
   "metadata": {},
   "outputs": [],
   "source": [
    "# extra\n",
    "merged_data = pd.concat([train, test, cross_validation])\n",
    "\n",
    "from sklearn.utils import shuffle\n",
    "merged_data = shuffle(merged_data)\n",
    "\n",
    "md_labels = merged_data.iloc[:, 0]\n",
    "md_features = merged_data.iloc[:, 1:]"
   ]
  },
  {
   "cell_type": "code",
   "execution_count": 6,
   "metadata": {},
   "outputs": [],
   "source": [
    "from sklearn.model_selection import KFold\n",
    "from sklearn.model_selection import cross_val_score\n",
    "\n",
    "kf = KFold(n_splits = 10, shuffle = True, random_state = 1)"
   ]
  },
  {
   "cell_type": "code",
   "execution_count": 7,
   "metadata": {},
   "outputs": [],
   "source": [
    "pred_NN_kf = cross_val_score(MLPClassifier(max_iter=500, random_state=1, hidden_layer_sizes=(100,100,100)), md_features, md_labels, cv=kf)"
   ]
  },
  {
   "cell_type": "code",
   "execution_count": 8,
   "metadata": {},
   "outputs": [],
   "source": [
    "pred_SVC_kf = cross_val_score(SVC(kernel = 'linear', gamma='auto', random_state = 1), md_features, md_labels, cv=kf)"
   ]
  },
  {
   "cell_type": "code",
   "execution_count": 9,
   "metadata": {},
   "outputs": [],
   "source": [
    "pred_TREE_kf = cross_val_score(tree.DecisionTreeClassifier(criterion='entropy'), md_features, md_labels, cv=kf)"
   ]
  },
  {
   "cell_type": "code",
   "execution_count": 10,
   "metadata": {},
   "outputs": [
    {
     "name": "stdout",
     "output_type": "stream",
     "text": [
      "Neural Networks:  [0.98018821 0.97919762 0.97820703 0.98266469 0.98563645 0.97870233\n",
      " 0.98068351 0.98216939 0.97672115 0.98017839]\n",
      "Support Vector Machines:  [0.96384349 0.96087172 0.96334819 0.9722635  0.96334819 0.96334819\n",
      " 0.9628529  0.96582467 0.95641407 0.96679881]\n",
      "Decision Tree:  [0.78553739 0.79098564 0.78850916 0.78008915 0.77216444 0.79247152\n",
      " 0.78207033 0.79346211 0.78355622 0.78840436]\n"
     ]
    }
   ],
   "source": [
    "print('Neural Networks: ', pred_NN_kf)\n",
    "print('Support Vector Machines: ', pred_SVC_kf)\n",
    "print('Decision Tree: ', pred_TREE_kf)"
   ]
  },
  {
   "cell_type": "code",
   "execution_count": 11,
   "metadata": {},
   "outputs": [
    {
     "name": "stdout",
     "output_type": "stream",
     "text": [
      "Average of all scores...\n",
      "Neural Networks:  0.980434877582687\n",
      "Support Vector Machines:  0.9638913719074147\n",
      "Decision Tree:  0.7857250324101412\n"
     ]
    }
   ],
   "source": [
    "print('Average of all scores...')\n",
    "print('Neural Networks: ', pred_NN_kf.mean())\n",
    "print('Support Vector Machines: ', pred_SVC_kf.mean())\n",
    "print('Decision Tree: ', pred_TREE_kf.mean())"
   ]
  },
  {
   "cell_type": "code",
   "execution_count": null,
   "metadata": {},
   "outputs": [],
   "source": []
  }
 ],
 "metadata": {
  "kernelspec": {
   "display_name": "Python 3",
   "language": "python",
   "name": "python3"
  },
  "language_info": {
   "codemirror_mode": {
    "name": "ipython",
    "version": 3
   },
   "file_extension": ".py",
   "mimetype": "text/x-python",
   "name": "python",
   "nbconvert_exporter": "python",
   "pygments_lexer": "ipython3",
   "version": "3.8.1"
  }
 },
 "nbformat": 4,
 "nbformat_minor": 4
}
