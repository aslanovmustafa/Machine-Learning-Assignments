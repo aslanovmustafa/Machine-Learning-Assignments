{
 "cells": [
  {
   "cell_type": "code",
   "execution_count": 1,
   "metadata": {},
   "outputs": [],
   "source": [
    "import pandas as pd \n",
    "import numpy as np \n",
    "import matplotlib.pyplot as plt \n",
    "from sklearn.metrics import accuracy_score\n",
    "from sklearn.linear_model import LogisticRegression\n",
    "\n",
    "\n",
    "path = pd.read_csv(\"exams.csv\")\n",
    "path_copy = path.copy()\n",
    "\n"
   ]
  },
  {
   "cell_type": "code",
   "execution_count": 2,
   "metadata": {},
   "outputs": [
    {
     "data": {
      "text/plain": [
       "<matplotlib.collections.PathCollection at 0x5339c28>"
      ]
     },
     "execution_count": 2,
     "metadata": {},
     "output_type": "execute_result"
    },
    {
     "data": {
      "image/png": "[encoded data removed]",
      "text/plain": [
       "<Figure size 432x288 with 1 Axes>"
      ]
     },
     "metadata": {
      "needs_background": "light"
     },
     "output_type": "display_data"
    }
   ],
   "source": [
    "exam_1_admitted = path[path['admitted']==1]['exam_1']\n",
    "exam_2_admitted = path[path['admitted']==1]['exam_2']\n",
    "exam_1_not_admitted = path[path['admitted']==0]['exam_1']\n",
    "exam_2_not_admitted = path[path['admitted']==0]['exam_2']\n",
    "\n",
    "plt.scatter(exam_1_admitted, exam_2_admitted, color=\"green\")\n",
    "plt.scatter(exam_1_not_admitted, exam_2_not_admitted, color=\"red\")"
   ]
  },
  {
   "cell_type": "code",
   "execution_count": 8,
   "metadata": {
    "scrolled": true
   },
   "outputs": [
    {
     "name": "stdout",
     "output_type": "stream",
     "text": [
      "0.6931471805599453\n",
      "0.5908778825379103\n",
      "0.5448305466419672\n",
      "0.5074938468946265\n",
      "0.4768878101925975\n",
      "0.45150408980588247\n",
      "0.4301990908090169\n",
      "0.4121107665725063\n",
      "0.39658771701610085\n",
      "0.38313421082464416\n",
      "0.37136936482059973\n",
      "0.3609973996820092\n",
      "0.35178608834264985\n",
      "0.3435511134665674\n",
      "0.33614464686247103\n",
      "0.3294469429539564\n",
      "0.32336009278123085\n",
      "0.31780333736092314\n",
      "0.3127095159807164\n",
      "0.3080223481186337\n",
      "0.3036943334877349\n",
      "0.29968511477637505\n",
      "0.29596018997599843\n",
      "0.2924898912359267\n",
      "0.2892485686963153\n",
      "0.2862139332848076\n",
      "0.2833665237784718\n",
      "0.2806892717472795\n",
      "0.2781671441566069\n",
      "0.27578684800944137\n",
      "0.27353658487557575\n",
      "0.2714058457858185\n",
      "0.26938523898041555\n",
      "0.26746634454931095\n",
      "0.2656415912021355\n",
      "0.2639041513422584\n",
      "0.26224785135440043\n",
      "0.2606670945959111\n",
      "0.2591567950429646\n",
      "0.25771231991122356\n",
      "0.2563294398661752\n",
      "0.25500428567691524\n",
      "0.25373331036055785\n",
      "0.252513256021988\n",
      "0.25134112472255055\n",
      "0.2502141528171634\n",
      "0.24912978828669594\n",
      "0.24808567066480933\n",
      "0.2470796132186056\n",
      "0.24610958709262779\n",
      "0.24517370716777723\n",
      "0.24427021942203062\n",
      "0.24339748960960564\n",
      "0.2425539931003887\n",
      "0.24173830574279692\n",
      "0.24094909563139552\n",
      "0.24018511567609888\n",
      "0.23944519688302257\n",
      "0.2387282422684319\n",
      "0.23803322133700255\n",
      "0.2373591650640378\n",
      "0.2367051613285655\n",
      "0.2360703507505518\n",
      "0.23545392289093608\n",
      "0.2348551127779628\n",
      "0.23427319772743466\n",
      "0.23370749442814343\n",
      "0.23315735626691103\n",
      "0.2326221708704582\n",
      "0.2321013578437734\n",
      "0.23159436668680183\n",
      "0.23110067487318597\n",
      "0.2306197860764621\n",
      "0.2301512285306095\n",
      "0.2296945535131651\n",
      "0.22924933394029004\n",
      "0.22881516306421124\n",
      "0.2283916532643953\n",
      "0.22797843492463254\n",
      "0.22757515538895542\n",
      "0.2271814779899705\n",
      "0.2267970811437787\n",
      "0.22642165750619256\n",
      "0.22605491318542958\n",
      "0.22569656700689855\n",
      "0.22534634982607554\n",
      "0.22500400388581984\n",
      "0.22466928221479182\n",
      "0.22434194806391955\n",
      "0.22402177437812132\n",
      "0.22370854330071996\n",
      "0.2234020457081996\n",
      "0.22310208077314653\n",
      "0.22280845555338924\n",
      "0.22252098460551417\n",
      "0.22223948962107382\n",
      "0.22196379908394004\n",
      "0.22169374794737476\n",
      "0.22142917732949502\n",
      "0.22116993422591805\n"
     ]
    }
   ],
   "source": [
    "#minmax normalization\n",
    "path['exam_1'] = (path['exam_1']-path['exam_1'].min())/(path['exam_1'].max()-path['exam_1'].min())\n",
    "path['exam_2'] = (path['exam_2']-path['exam_2'].min())/(path['exam_2'].max()-path['exam_2'].min())\n",
    "\n",
    "x = path[['exam_1', 'exam_2']].values\n",
    "y = path['admitted'].values\n",
    "def sigmoid(z):\n",
    "    return 1/(1+np.exp(-z))\n",
    "\n",
    "def costFunction(h, y):\n",
    "    return (-y * np.log(h)-(1-y)*np.log(1-h)).mean()\n",
    "\n",
    "def probabilityPred (x, theta):\n",
    "    return sigmoid(np.dot(x, theta))\n",
    "\n",
    "def pred(x, theta, threshold = 0.5):\n",
    "    probability = probabilityPred(x, theta)\n",
    "    probability[probability>=0.5] = 1\n",
    "    probability[probability<0.5] = 0\n",
    "    return probability\n",
    "\n",
    "intercept = np.ones((x.shape[0], 1))\n",
    "\n",
    "x = np.concatenate((intercept, x), axis = 1)\n",
    "theta = np.zeros(x.shape[1])\n",
    "learning_rate = 0.01\n",
    "numIterations = 100000\n",
    "\n",
    "\n",
    "cost = []\n",
    "for i in range(numIterations):\n",
    "    z = np.dot(x, theta)\n",
    "    h = sigmoid(z)\n",
    "    gradient = np.dot(x.T, (h-y))/ y.size\n",
    "    theta -= learning_rate*gradient\n",
    "    if i %1000 == 0: print(costFunction(h, y))\n",
    "    cost.append(costFunction(h, y))\n",
    "\n"
   ]
  },
  {
   "cell_type": "code",
   "execution_count": 4,
   "metadata": {
    "scrolled": false
   },
   "outputs": [
    {
     "data": {
      "text/plain": [
       "[<matplotlib.lines.Line2D at 0x536dad8>]"
      ]
     },
     "execution_count": 4,
     "metadata": {},
     "output_type": "execute_result"
    },
    {
     "data": {
      "image/png": "[encoded data removed]",
      "text/plain": [
       "<Figure size 432x288 with 1 Axes>"
      ]
     },
     "metadata": {
      "needs_background": "light"
     },
     "output_type": "display_data"
    }
   ],
   "source": [
    "plt.plot(range(len(cost)), cost)"
   ]
  },
  {
   "cell_type": "code",
   "execution_count": 5,
   "metadata": {
    "scrolled": false
   },
   "outputs": [
    {
     "name": "stdout",
     "output_type": "stream",
     "text": [
      "[0.0, 1.0]\n",
      "[ 0.93375888 -0.13246154]\n"
     ]
    },
    {
     "data": {
      "text/plain": [
       "[<matplotlib.lines.Line2D at 0x1c1f6820>]"
      ]
     },
     "execution_count": 5,
     "metadata": {},
     "output_type": "execute_result"
    },
    {
     "data": {
      "image/png": "[encoded data removed]",
      "text/plain": [
       "<Figure size 432x288 with 1 Axes>"
      ]
     },
     "metadata": {
      "needs_background": "light"
     },
     "output_type": "display_data"
    }
   ],
   "source": [
    "e1a = path[path['admitted']==1]['exam_1']\n",
    "e2a = path[path['admitted']==1]['exam_2']\n",
    "e1n = path[path['admitted']==0]['exam_1']\n",
    "e2n = path[path['admitted']==0]['exam_2']\n",
    "plt.scatter(e1a, e2a, color=\"green\")\n",
    "plt.scatter(e1n, e2n, color=\"red\")\n",
    "\n",
    "x_values =  [np.min(path['exam_1']), np.max(path['exam_1'])]\n",
    "print(x_values)\n",
    "y_values = - (theta[0] + np.dot(theta[1], x_values))/theta[2]\n",
    "print(y_values)\n",
    "plt.plot(x_values, y_values)"
   ]
  },
  {
   "cell_type": "code",
   "execution_count": 6,
   "metadata": {},
   "outputs": [
    {
     "name": "stdout",
     "output_type": "stream",
     "text": [
      "Prediction on train data\n",
      "[0. 0. 0. 1. 1. 0. 1. 0. 1. 1. 1. 0. 1. 1. 0. 1. 0. 0. 1. 1. 0. 1. 0. 0.\n",
      " 1. 1. 1. 1. 0. 0. 1. 1. 0. 0. 0. 0. 1. 1. 0. 0. 1. 0. 1. 1. 0. 0. 1. 1.\n",
      " 1. 1. 1. 1. 1. 0. 0. 0. 1. 1. 1. 1. 1. 0. 0. 0. 0. 0. 1. 0. 1. 1. 0. 1.\n",
      " 1. 1. 1. 1. 1. 1. 0. 1. 1. 1. 1. 0. 1. 1. 0. 1. 1. 0. 1. 1. 0. 1. 1. 1.\n",
      " 1. 1. 0. 1.]\n",
      "Actual values\n",
      "[0 0 0 1 1 0 1 1 1 1 0 0 1 1 0 1 1 0 1 1 0 1 0 0 1 1 1 0 0 0 1 1 0 1 0 0 0\n",
      " 1 0 0 1 0 1 0 0 0 1 1 1 1 1 1 1 0 0 0 1 0 1 1 1 0 0 0 0 0 1 0 1 1 0 1 1 1\n",
      " 1 1 1 1 0 0 1 1 1 1 1 1 0 1 1 0 1 1 0 1 1 1 1 1 1 1]\n",
      "Accuracy\n",
      "0.89\n"
     ]
    }
   ],
   "source": [
    "#test\n",
    "preds = pred(x, theta)\n",
    "print('Prediction on train data')\n",
    "print(preds)\n",
    "print('Actual values')\n",
    "print(y)\n",
    "print('Accuracy')\n",
    "print(accuracy_score(y, preds))"
   ]
  },
  {
   "cell_type": "code",
   "execution_count": 7,
   "metadata": {},
   "outputs": [
    {
     "name": "stdout",
     "output_type": "stream",
     "text": [
      "Test 1 prediction:\n",
      "0.5434423607787654\n",
      "Test 2 prediction:\n",
      "0.04344999213011968\n"
     ]
    }
   ],
   "source": [
    "#testing data not in dataset\n",
    "#test1\n",
    "testX_1 = np.array([55, 70])\n",
    "testY_1 = 1\n",
    "\n",
    "#test2\n",
    "testX_2 = np.array ([40, 60])\n",
    "testY_2 = 0\n",
    "\n",
    "testX_1 = (testX_1 - path_copy['exam_1'].min())/(path_copy['exam_1'].max() - path_copy['exam_1'].min())\n",
    "testX_1 = np.insert(testX_1, 0, 1.0)\n",
    "\n",
    "testX_2 = (testX_2 - path_copy['exam_1'].min())/(path_copy['exam_1'].max() - path_copy['exam_1'].min())\n",
    "testX_2 = np.insert(testX_2, 0, 1.0)\n",
    "\n",
    "print('Test 1 prediction:')\n",
    "print(probabilityPred(testX_1, theta))\n",
    "print('Test 2 prediction:')\n",
    "print(probabilityPred(testX_2, theta))"
   ]
  }
 ],
 "metadata": {
  "kernelspec": {
   "display_name": "Python 3",
   "language": "python",
   "name": "python3"
  },
  "language_info": {
   "codemirror_mode": {
    "name": "ipython",
    "version": 3
   },
   "file_extension": ".py",
   "mimetype": "text/x-python",
   "name": "python",
   "nbconvert_exporter": "python",
   "pygments_lexer": "ipython3",
   "version": "3.8.1"
  }
 },
 "nbformat": 4,
 "nbformat_minor": 4
}
